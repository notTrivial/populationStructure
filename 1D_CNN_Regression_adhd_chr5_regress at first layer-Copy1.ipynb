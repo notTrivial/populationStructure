{
 "cells": [
  {
   "cell_type": "code",
   "execution_count": 2,
   "id": "7998437e",
   "metadata": {},
   "outputs": [
    {
     "name": "stderr",
     "output_type": "stream",
     "text": [
      "2024-03-27 14:11:08.156448: I tensorflow/core/platform/cpu_feature_guard.cc:193] This TensorFlow binary is optimized with oneAPI Deep Neural Network Library (oneDNN) to use the following CPU instructions in performance-critical operations:  SSE4.1 SSE4.2 AVX AVX2 AVX512F AVX512_VNNI FMA\n",
      "To enable them in other operations, rebuild TensorFlow with the appropriate compiler flags.\n",
      "2024-03-27 14:11:08.202747: I tensorflow/core/util/util.cc:169] oneDNN custom operations are on. You may see slightly different numerical results due to floating-point round-off errors from different computation orders. To turn them off, set the environment variable `TF_ENABLE_ONEDNN_OPTS=0`.\n"
     ]
    }
   ],
   "source": [
    "import matplotlib.pyplot as plt\n",
    "import numpy as np\n",
    "import pandas as pd\n",
    "import tensorflow as tf\n",
    "\n",
    "from sklearn.metrics import accuracy_score, precision_score, recall_score\n",
    "from sklearn.model_selection import train_test_split\n",
    "from tensorflow.keras import layers, losses\n",
    "from tensorflow.keras.datasets import fashion_mnist\n",
    "from tensorflow.keras.models import Model\n",
    "from sklearn.impute import SimpleImputer\n",
    "\n",
    "from tensorflow.keras.callbacks import EarlyStopping\n",
    "import pickle\n",
    "from tensorflow.keras.layers import Conv3D, MaxPool3D, Flatten, Dense, ReLU, AveragePooling3D, LeakyReLU, Add\n",
    "from tensorflow.keras import regularizers"
   ]
  },
  {
   "cell_type": "code",
   "execution_count": 3,
   "id": "6cd5f4f3",
   "metadata": {},
   "outputs": [],
   "source": [
    "tf.random.set_seed(1)\n",
    "import random\n",
    "\n",
    "import os\n",
    "random.seed(1)\n",
    "os.environ['TF_DETERMINISTIC_OPS'] = '1'"
   ]
  },
  {
   "cell_type": "code",
   "execution_count": 4,
   "id": "0a9a4876",
   "metadata": {},
   "outputs": [],
   "source": [
    "import matplotlib.pyplot as plt\n",
    "import numpy as np\n",
    "import pandas as pd\n",
    "import tensorflow as tf\n",
    "\n",
    "from sklearn.metrics import accuracy_score, precision_score, recall_score\n",
    "from sklearn.model_selection import train_test_split\n",
    "from tensorflow.keras import layers, losses\n",
    "from tensorflow.keras.datasets import fashion_mnist\n",
    "from tensorflow.keras.models import Model\n",
    "from sklearn.impute import SimpleImputer\n",
    "\n",
    "import os\n",
    "from os import listdir\n",
    "from os.path import isfile, join\n",
    "\n",
    "#from keras.engine.topology import Layer\n",
    "from keras.layers import Activation, Lambda, Conv1D, SpatialDropout1D, add\n",
    "from tensorflow.keras.layers import Input, Concatenate, Dense\n",
    "from tensorflow.keras.models import Model\n",
    "\n",
    "import numpy as np\n",
    "import pandas as pd\n",
    "import tensorflow as tf\n",
    "from tensorflow.keras.layers import Layer, Input, concatenate\n",
    "from tensorflow.keras.models import Model\n",
    "from sklearn.impute import KNNImputer\n",
    "from tensorflow.keras.callbacks import EarlyStopping\n",
    "from tensorflow.keras.layers import Conv1D, MaxPooling1D, BatchNormalization, Flatten, Dense, Input\n",
    "from sklearn.metrics import accuracy_score, precision_score, recall_score\n",
    "from tensorflow.keras.layers import Dropout, Input, BatchNormalization\n",
    "from sklearn.metrics import accuracy_score, confusion_matrix, classification_report\n",
    "from tensorflow.keras.optimizers import Adadelta, Adam, SGD, Nadam\n",
    "from scipy.signal import find_peaks\n",
    "from sklearn.linear_model import LinearRegression\n",
    "from sklearn.linear_model import LogisticRegression"
   ]
  },
  {
   "cell_type": "code",
   "execution_count": 5,
   "id": "046d9999",
   "metadata": {},
   "outputs": [],
   "source": [
    "from keras import initializers\n",
    "\n",
    "np.random.seed(16)\n",
    "tf.random.set_seed(16)\n",
    "from sklearn.preprocessing import OneHotEncoder\n"
   ]
  },
  {
   "cell_type": "code",
   "execution_count": 6,
   "id": "f9bd055f",
   "metadata": {},
   "outputs": [],
   "source": [
    "model_file_path = \"/media/gdagasso/TOSHIBA EXT/ABCD/Regression_PopStruc_Model/Models/\"\n",
    "model_name = \"cnn_1d_binaryClassifier.h5\"\n",
    "model_regressed = \"mlp_regressed_cnn_output.h5\"\n",
    "\n",
    "cnn_model_path = model_file_path + model_name\n",
    "regressed_model_path = model_file_path + model_regressed"
   ]
  },
  {
   "cell_type": "code",
   "execution_count": 7,
   "id": "b6145b22",
   "metadata": {},
   "outputs": [],
   "source": [
    "classes = 3"
   ]
  },
  {
   "cell_type": "code",
   "execution_count": 10,
   "id": "dfab24c8",
   "metadata": {},
   "outputs": [],
   "source": [
    "def fix_geno_file(geno_file,classes, same_SNPs_list):\n",
    "    geno_df = pd.read_csv(geno_file,sep=\"\\t\",index_col=2)\n",
    "    geno_df = geno_df.drop(columns=['#CHROM','POS','REF','ALT','QUAL','FILTER','INFO','FORMAT'])\n",
    "    print(geno_df.shape)\n",
    "    \n",
    "    geno_df_filtered = geno_df[geno_df.index.isin(same_SNPs_list)]\n",
    "    \n",
    "    dataframe_T = geno_df_filtered.T\n",
    "    print(dataframe_T.shape)\n",
    "    SNPs = len(dataframe_T.columns) #-1 # only drop one when its a revalued vcf file!!\n",
    "    # Impute with KNN/ Simple\n",
    "    SI = SimpleImputer(missing_values=9, strategy='most_frequent')\n",
    "    #knn_imputer = KNNImputer(missing_values='9',n_neighbors=100, weights='uniform', metric='nan_euclidean')\n",
    "    tmp = SI.fit_transform(dataframe_T)\n",
    "    dataframe_T_imputed = pd.DataFrame(tmp, columns = dataframe_T.columns, index = dataframe_T.index)\n",
    "    \n",
    "    categories = [np.array([0, 1, 2])]*SNPs\n",
    "    encoder = OneHotEncoder(categories=categories,sparse_output=False)\n",
    "    data_encoded = encoder.fit_transform(dataframe_T_imputed.to_numpy())\n",
    "    #print(data_encoded.shape)\n",
    "    #data_encoded = data_encoded.toarray()\n",
    "    data_encoded = data_encoded.reshape(-1, 1)\n",
    "    list_ID = list(dataframe_T_imputed.index.values)\n",
    "    data_encoded = data_encoded.reshape((len(list_ID),SNPs, classes))\n",
    "    print(data_encoded.shape)\n",
    "    \n",
    "    #list_ID = list(dataframe_T_imputed.index.values) \n",
    "    return SNPs, list_ID, data_encoded\n",
    "\n"
   ]
  },
  {
   "cell_type": "code",
   "execution_count": 9,
   "id": "586efc5f",
   "metadata": {},
   "outputs": [],
   "source": [
    "def fix_geno_file_noOHE(geno_file, same_SNPs_list):\n",
    "    geno_df = pd.read_csv(geno_file,sep=\"\\t\",index_col=2)\n",
    "    geno_df = geno_df.drop(columns=['#CHROM','POS','REF','ALT','QUAL','FILTER','INFO','FORMAT'])\n",
    "    print(geno_df.shape)\n",
    "    \n",
    "    geno_df_filtered = geno_df[geno_df.index.isin(same_SNPs_list)]\n",
    "    \n",
    "    dataframe_T = geno_df_filtered.T\n",
    "    print(dataframe_T.shape)\n",
    "    SNPs = len(dataframe_T.columns) #-1 # only drop one when its a revalued vcf file!!\n",
    "    # Impute with KNN/ Simple\n",
    "    SI = SimpleImputer(missing_values=9, strategy='most_frequent')\n",
    "    #knn_imputer = KNNImputer(missing_values='9',n_neighbors=100, weights='uniform', metric='nan_euclidean')\n",
    "    tmp = SI.fit_transform(dataframe_T)\n",
    "    dataframe_T_imputed = pd.DataFrame(tmp, columns = dataframe_T.columns, index = dataframe_T.index)\n",
    "    np_T_imputed = dataframe_T_imputed.to_numpy()\n",
    "    #categories = [np.array([0, 1, 2])]*SNPs\n",
    "    #encoder = OneHotEncoder(categories=categories,sparse_output=False)\n",
    "    #data_encoded = encoder.fit_transform(dataframe_T_imputed.to_numpy())\n",
    "    #print(data_encoded.shape)\n",
    "    #data_encoded = data_encoded.toarray()\n",
    "    #data_encoded = data_encoded.reshape(-1, 1)\n",
    "    list_ID = list(dataframe_T_imputed.index.values)\n",
    "    data_encoded = np_T_imputed.reshape((len(list_ID),SNPs, 1))\n",
    "    print(data_encoded.shape)\n",
    "    \n",
    "    #list_ID = list(dataframe_T_imputed.index.values) \n",
    "    return SNPs, list_ID, data_encoded, dataframe_T_imputed"
   ]
  },
  {
   "cell_type": "code",
   "execution_count": 11,
   "id": "67731f92",
   "metadata": {},
   "outputs": [],
   "source": [
    "def read_in_popStruc(popStruc_file,list_ID):\n",
    "    pop_struc = pd.read_csv(popStruc_file,sep=\"\\t\", header=0, index_col=1)\n",
    "    pop_struc = pop_struc.drop(columns=['FIID'])\n",
    "    \n",
    "    list_ID_pop = list(pop_struc.index.values)\n",
    "    merged_list = list(set(list_ID_pop) & set(list_ID))\n",
    "    \n",
    "    s = set(merged_list)\n",
    "    temp3 = [x for x in list_ID if x not in s]\n",
    "    \n",
    "    #pop_struc = pop_struc[pop_struc['IID'].isin(list_ID)]\n",
    "    pop_struc = pop_struc.loc[merged_list]\n",
    "    #print(pop_struc[:10].head)\n",
    "    print(pop_struc.shape)\n",
    "    return pop_struc, temp3"
   ]
  },
  {
   "cell_type": "code",
   "execution_count": 12,
   "id": "ada803f5",
   "metadata": {},
   "outputs": [],
   "source": [
    "def drop_missing(pids, list_ID, data):\n",
    "    list_ID_new = list_ID\n",
    "    print(data.shape)\n",
    "    for i in pids:\n",
    "        # Find index of patient ID to drop\n",
    "        index_to_drop = list_ID.index(i)\n",
    "        print(i,\" \",index_to_drop)\n",
    "\n",
    "        # Drop the respective index from the numpy array\n",
    "        data_new = np.delete(data, index_to_drop, axis=0)\n",
    "        \n",
    "        list_ID_new.remove(i)\n",
    "        \n",
    "        print(data_new.shape)\n",
    "        print(len(list_ID_new))\n",
    "        \n",
    "    return data_new, list_ID_new"
   ]
  },
  {
   "cell_type": "code",
   "execution_count": 13,
   "id": "71eac8ab",
   "metadata": {},
   "outputs": [],
   "source": [
    "def reorder(pop_struc,list_ID):\n",
    "    pop_struc = pop_struc.loc[lst]\n",
    "    return pop_struc"
   ]
  },
  {
   "cell_type": "code",
   "execution_count": 14,
   "id": "5560e908",
   "metadata": {},
   "outputs": [],
   "source": [
    "def geno_cnn_big(inputLayer):\n",
    "    # Input layer\n",
    "    #input_layer = Input(shape=(46314, 1))\n",
    "\n",
    "    # Convolutional layers (FOR BIGGER SNPS DIM)\n",
    "    conv1 = Conv1D(filters=16, kernel_size=31, activation='relu',name=\"conv1G\")((inputLayer[0]))\n",
    "    batch_norm1 = BatchNormalization()(conv1)\n",
    "    max_pooling1 = MaxPooling1D(pool_size=6,name=\"pool1G\")(batch_norm1) #10\n",
    "\n",
    "    conv2 = Conv1D(filters=32, kernel_size=15, activation='relu', kernel_regularizer=regularizers.l2(0.01),name=\"conv2G\")(max_pooling1)\n",
    "    batch_norm2 = BatchNormalization()(conv2)\n",
    "    max_pooling2 = MaxPooling1D(pool_size=3,name=\"pool2G\")(batch_norm2) #6\n",
    "\n",
    "    #conv3 = Conv1D(filters=64, kernel_size=15, activation='relu',name=\"conv3G\")(max_pooling2)\n",
    "    #max_pooling3 = MaxPooling1D(pool_size=4, name=\"pool3G\")(conv3)\n",
    "\n",
    "    #conv4 = Conv1D(filters=128, kernel_size=15, name=\"conv4G\")(max_pooling2)\n",
    "    #batch_norm4 = BatchNormalization()(conv4)\n",
    "\n",
    "    # Flatten layer\n",
    "    flatten = Flatten()(max_pooling2)\n",
    "\n",
    "    # Dense layers\n",
    "    dense1 = Dense(512, activation='relu')(flatten)\n",
    "    x = Dense(256, activation='relu')(dense1)#()\n",
    "    x = Dropout(.2)(x)\n",
    "    x = Dense(128, activation='relu')(x)\n",
    "    output_layer = Dense(1, activation='sigmoid')(x)\n",
    "\n",
    "    return output_layer\n",
    "    #return flatten"
   ]
  },
  {
   "cell_type": "code",
   "execution_count": 15,
   "id": "509dded0",
   "metadata": {},
   "outputs": [],
   "source": [
    "def geno_big_mlp(inputLayer):\n",
    "    flatten = Flatten()"
   ]
  },
  {
   "cell_type": "code",
   "execution_count": 16,
   "id": "00225e82",
   "metadata": {},
   "outputs": [],
   "source": [
    "def geno_cnn_small(inputLayer):\n",
    "    # Input layer\n",
    "    #input_layer = Input(shape=(46314, 1))\n",
    "\n",
    "    # Convolutional layers\n",
    "    conv1 = Conv1D(filters=16, kernel_size=3, activation='relu',name=\"conv1G\")((inputLayer[0]))\n",
    "    batch_norm1 = BatchNormalization()(conv1)\n",
    "    max_pooling1 = MaxPooling1D(pool_size=4,name=\"pool1G\")(batch_norm1)\n",
    "\n",
    "    conv2 = Conv1D(filters=32, kernel_size=3, activation='relu',name=\"conv2G\")(max_pooling1)\n",
    "    batch_norm2 = BatchNormalization()(conv2)\n",
    "    max_pooling2 = MaxPooling1D(pool_size=3,name=\"pool2G\")(batch_norm2)\n",
    "\n",
    "\n",
    "    # Flatten layer\n",
    "    flatten = Flatten()(max_pooling2)\n",
    "\n",
    "    # Upsampling\n",
    "    reshaped = Reshape((-1, 1))(flatten)\n",
    "    upsampled = UpSampling1D(size=2)(reshaped)\n",
    "    flatten = Flatten(name=\"flattenUpsample\")(upsampled)\n",
    "\n",
    "    # Dense layers\n",
    "    dense1 = Dense(28, activation='relu')(flatten)\n",
    "    #dropped = Dropout(.2)(dense1)\n",
    "    output_layer = Dense(1, activation='sigmoid')(dense1)\n",
    "    return output_layer"
   ]
  },
  {
   "cell_type": "code",
   "execution_count": 17,
   "id": "61ced206",
   "metadata": {},
   "outputs": [],
   "source": [
    "def compile_model(SNPs,classes):\n",
    "    opt = Adam(lr=0.001)#,decay=1e-6)\n",
    "    \n",
    "    metr = [tf.keras.metrics.BinaryAccuracy(name='accuracy'), tf.keras.metrics.Precision(name='precision'),\n",
    "            tf.keras.metrics.Recall(name='recall')]\n",
    "    \n",
    "    inputA = Input(shape=(SNPs,classes),name=\"InputA\")\n",
    "\n",
    "    y = geno_cnn_big([inputA])\n",
    "\n",
    "    model = Model(inputs=[inputA], outputs=[y])\n",
    "    model.summary()\n",
    "    model.compile(loss=tf.keras.losses.BinaryCrossentropy(), optimizer=opt, metrics=metr)\n",
    "    \n",
    "    return model"
   ]
  },
  {
   "cell_type": "code",
   "execution_count": 18,
   "id": "6ceb1764",
   "metadata": {},
   "outputs": [],
   "source": [
    "def scheduler(epoch, lr):\n",
    "    #return lr * tf.math.exp(-0.1)\n",
    "    decay_rate = 0.1\n",
    "    decay_step = 10  # adjust as needed\n",
    "    return lr * tf.math.exp(-decay_rate * epoch / decay_step)"
   ]
  },
  {
   "cell_type": "code",
   "execution_count": 19,
   "id": "f20b2581",
   "metadata": {},
   "outputs": [],
   "source": [
    "def intermediate_model(layer, model):\n",
    "    layer_output = model.get_layer(layer).output\n",
    "    model = tf.keras.models.Model(inputs=model.input, outputs=layer_output)\n",
    "    model.summary()\n",
    "    return model"
   ]
  },
  {
   "cell_type": "code",
   "execution_count": 20,
   "id": "7d4b3154",
   "metadata": {},
   "outputs": [],
   "source": [
    "def get_outputs(model,data):\n",
    "    features = model.predict(data)\n",
    "    print(features.shape)\n",
    "    return features"
   ]
  },
  {
   "cell_type": "code",
   "execution_count": 21,
   "id": "531776c0",
   "metadata": {},
   "outputs": [],
   "source": [
    "def binary_predictor_model(flatten_feature_size):\n",
    "    # Binary Predictor Model\n",
    "    input_layer_bp = layers.Input(shape=(flatten_feature_size, 1))  \n",
    "    flatten = Flatten()(input_layer_bp)\n",
    "    #dense5 = layers.Dense(600, activation='relu')(input_layer_bp)\n",
    "    #dense6 = layers.Dense(512,activation='relu')(input_layer_bp)\n",
    "    #dense7 = layers.Dense(256,activation='relu')(dense6)\n",
    "    #max_pooling = layers.MaxPooling1D(pool_size=6)(dense6)\n",
    "    \n",
    "    \n",
    "    # Dense layers\n",
    "    x = Dense(512, activation='relu')(flatten)\n",
    "    x = Dense(256, activation='relu')(x)#()\n",
    "    x = Dropout(.2)(x)\n",
    "    x = Dense(128, activation='relu')(x)\n",
    "    output_layer = Dense(1, activation='sigmoid')(x)\n",
    "    \n",
    "    #output_layer_bp = layers.Dense(1, activation='sigmoid')(dense7)\n",
    "\n",
    "\n",
    "    binary_predictor_model = Model(input_layer_bp, output_layer, name=\"binary_predictor\")\n",
    "    binary_predictor_model.summary()\n",
    "    \n",
    "    opt = Adam(lr=0.0001)#,decay=1e-6)\n",
    "    metr = [tf.keras.metrics.BinaryAccuracy(name='accuracy'), tf.keras.metrics.Precision(name='precision'),\n",
    "            tf.keras.metrics.Recall(name='recall')]\n",
    "    binary_predictor_model.compile(loss=tf.keras.losses.BinaryCrossentropy(), optimizer=opt, metrics=metr)\n",
    "    \n",
    "    return binary_predictor_model"
   ]
  },
  {
   "cell_type": "code",
   "execution_count": 22,
   "id": "68dc8bdc",
   "metadata": {},
   "outputs": [],
   "source": [
    "def binary_predictor_model_noOHE(flatten_feature_size):\n",
    "    # Binary Predictor Model\n",
    "    input_layer_bp = layers.Input(shape=(flatten_feature_size))  \n",
    "    #flatten = Flatten()(input_layer_bp)\n",
    "    #dense5 = layers.Dense(600, activation='relu')(input_layer_bp)\n",
    "    #dense6 = layers.Dense(512,activation='relu')(input_layer_bp)\n",
    "    #dense7 = layers.Dense(256,activation='relu')(dense6)\n",
    "    #max_pooling = layers.MaxPooling1D(pool_size=6)(dense6)\n",
    "    \n",
    "    \n",
    "    # Dense layers\n",
    "    #x = Dense(1024, activation='relu')(input_layer_bp)\n",
    "    #x = Dropout(.2)(x)\n",
    "    x = Dense(512, activation='relu')(input_layer_bp)\n",
    "    x = Dense(256, activation='relu')(x)#()\n",
    "    x = Dropout(.2)(x)\n",
    "    x = Dense(128, activation='relu')(x)\n",
    "    output_layer = Dense(1, activation='sigmoid')(x)\n",
    "    \n",
    "    #output_layer_bp = layers.Dense(1, activation='sigmoid')(dense7)\n",
    "\n",
    "\n",
    "    binary_predictor_model = Model(input_layer_bp, output_layer, name=\"binary_predictor\")\n",
    "    binary_predictor_model.summary()\n",
    "    \n",
    "    opt = Adam(lr=0.00001)#,decay=1e-6)\n",
    "    metr = [tf.keras.metrics.BinaryAccuracy(name='accuracy'), tf.keras.metrics.Precision(name='precision'),\n",
    "            tf.keras.metrics.Recall(name='recall')]\n",
    "    binary_predictor_model.compile(loss=tf.keras.losses.BinaryCrossentropy(), optimizer=opt, metrics=metr)\n",
    "    \n",
    "    return binary_predictor_model"
   ]
  },
  {
   "cell_type": "code",
   "execution_count": 21,
   "id": "95f39024",
   "metadata": {},
   "outputs": [],
   "source": [
    "# def drop_index(PIDs_to_drop, list_ID, geno_df):\n",
    "#     for i in PIDs_to_drop:\n",
    "#         index_to_drop = list_ID.index(PID)\n",
    "#         geno_df = np.delete(geno_df, index_to_drop, axis=0)\n",
    "#     print(\"New Geno Shape: \", geno_df.shape)\n",
    "#     return geno_df"
   ]
  },
  {
   "cell_type": "code",
   "execution_count": 23,
   "id": "ab58a6d2",
   "metadata": {},
   "outputs": [],
   "source": [
    "def convert_preds(test_data, model):\n",
    "    predictions = model.predict(test_data)\n",
    "    predictions[predictions < 0.5] = 0\n",
    "    predictions[predictions > 0.5] = 1\n",
    "    print(predictions)\n",
    "    return predictions"
   ]
  },
  {
   "cell_type": "code",
   "execution_count": 24,
   "id": "d3303799",
   "metadata": {},
   "outputs": [],
   "source": [
    "def my_confusion_matrix(y_test, predictions):\n",
    "\n",
    "    accuracy = accuracy_score(y_test, predictions)\n",
    "    confusion_mat = confusion_matrix(y_test, predictions)\n",
    "    classification_rep = classification_report(y_test, predictions)\n",
    "\n",
    "    print(\"Accuracy:\", accuracy)\n",
    "    print(\"Confusion Matrix:\\n\", confusion_mat)\n",
    "    print(\"Classification Report:\\n\", classification_rep)"
   ]
  },
  {
   "cell_type": "code",
   "execution_count": 25,
   "id": "6ccfaf3c",
   "metadata": {},
   "outputs": [],
   "source": [
    "def generate_labels(list_ids_cases, list_ids_controls):\n",
    "    labels_cases = np.ones(len(list_ids_cases))\n",
    "    labels_controls = np.zeros(len(list_ids_controls))\n",
    "    return np.concatenate((labels_cases, labels_controls))\n"
   ]
  },
  {
   "cell_type": "code",
   "execution_count": 26,
   "id": "11201a7e",
   "metadata": {},
   "outputs": [],
   "source": [
    "def split_data(list_ids_cases, list_ids_controls, data_cases, data_controls, test_size=0.3, valid_size=0.5, random_state=None):\n",
    "    # Generate labels\n",
    "    labels = generate_labels(list_ids_cases, list_ids_controls)\n",
    "    \n",
    "    # Combine cases and controls data\n",
    "    X_combined = np.concatenate((data_cases, data_controls), axis=0)\n",
    "    list_ids_combined = list_ids_cases + list_ids_controls\n",
    "    print(len(list_ids_combined))\n",
    "    \n",
    "    # Splitting into train, test, and validation sets\n",
    "    X_train, X_tmp, y_train, y_tmp, ids_train, ids_tmp = train_test_split(X_combined, labels, list_ids_combined, test_size=test_size, random_state=random_state, shuffle=True, stratify=labels)\n",
    "    print(X_train.shape)\n",
    "    X_test, X_valid, y_test, y_valid, ids_test, ids_valid = train_test_split(X_tmp, y_tmp, ids_tmp, test_size=valid_size, random_state=random_state, shuffle=True, stratify=y_tmp)\n",
    "    print(X_test.shape)\n",
    "    \n",
    "    return X_train, X_test, X_valid, y_train, y_test, y_valid, ids_train, ids_test, ids_valid"
   ]
  },
  {
   "cell_type": "code",
   "execution_count": 27,
   "id": "a951de25",
   "metadata": {},
   "outputs": [],
   "source": [
    "def get_SNPs_merge(geno_file_1,geno_file_0):\n",
    "    geno_df_1 = pd.read_csv(geno_file_1,sep=\"\\t\",index_col=2)\n",
    "    geno_df_1 = geno_df_1.drop(columns=['#CHROM','POS','REF','ALT','QUAL','FILTER','INFO','FORMAT'])\n",
    "    list_1 = list(geno_df_1.index.values)\n",
    "    \n",
    "    \n",
    "    geno_df_0 = pd.read_csv(geno_file_0,sep=\"\\t\",index_col=2)\n",
    "    geno_df_0 = geno_df_0.drop(columns=['#CHROM','POS','REF','ALT','QUAL','FILTER','INFO','FORMAT'])\n",
    "    list_0 = list(geno_df_0.index.values)\n",
    "    \n",
    "    join_snps = list(set(list_0).intersection(list_1))\n",
    "    \n",
    "    return join_snps\n",
    "    \n",
    "    "
   ]
  },
  {
   "cell_type": "code",
   "execution_count": 28,
   "id": "7a7f021a",
   "metadata": {},
   "outputs": [],
   "source": [
    "def split_popStruc(ids_train, ids_test, ids_valid, pop_struc_1,pop_struc_0):\n",
    "    frames = [pop_struc_1, pop_struc_0]\n",
    "    result = pd.concat(frames)\n",
    "    #popStruc_combined = np.concatenate((pop_struc_0,pop_struc_1),axis=0)\n",
    "    \n",
    "    train_pop_struc = result.loc[ids_train]\n",
    "    test_pop_struc = result.loc[ids_test]\n",
    "    valid_pop_struc = result.loc[ids_valid]\n",
    "    \n",
    "    return train_pop_struc,test_pop_struc,valid_pop_struc\n",
    "    "
   ]
  },
  {
   "cell_type": "code",
   "execution_count": 29,
   "id": "15ec8460",
   "metadata": {},
   "outputs": [],
   "source": [
    "def save_resids(data,ids,filename):\n",
    "    resid_train = pd.DataFrame(data, index=ids)\n",
    "    resid_train.to_csv(filename, index_label='ID')\n",
    "    print(\"Saved: \",filename)"
   ]
  },
  {
   "cell_type": "code",
   "execution_count": 30,
   "id": "322d686c",
   "metadata": {},
   "outputs": [],
   "source": [
    "def save_split(data, ids, labels, filename):\n",
    "    # Create DataFrame for residuals data\n",
    "    #snps = pd.DataFrame(data, index=ids, columns=['Residuals'])\n",
    "\n",
    "    # Create DataFrame for additional array data\n",
    "    additional_df = pd.DataFrame({'label': labels}, index=ids)\n",
    "\n",
    "    # Concatenate DataFrames along columns\n",
    "    #merged_df = pd.concat([snps, additional_df], axis=1)\n",
    "\n",
    "    # Save merged DataFrame to CSV\n",
    "    additional_df.to_csv(filename, index_label='ID')\n",
    "\n",
    "    print(\"Saved:\", filename)"
   ]
  },
  {
   "cell_type": "code",
   "execution_count": 31,
   "id": "62cbf014",
   "metadata": {},
   "outputs": [],
   "source": [
    "def plot_loss(history):\n",
    "    train_loss = history.history['loss']\n",
    "    val_loss = history.history['val_loss']\n",
    "    epochs = range(1, len(train_loss) + 1)\n",
    "\n",
    "    # Plotting the training and validation loss\n",
    "    plt.plot(epochs, train_loss, 'b', label='Training loss')\n",
    "    plt.plot(epochs, val_loss, 'r', label='Validation loss')\n",
    "    plt.title('Training and Validation Loss')\n",
    "    plt.xlabel('Epochs')\n",
    "    plt.ylabel('Loss')\n",
    "    plt.legend()\n",
    "    plt.show()"
   ]
  },
  {
   "cell_type": "code",
   "execution_count": 32,
   "id": "0723ede2",
   "metadata": {},
   "outputs": [],
   "source": [
    "# Define a function to get the gradients of the output with respect to the input\n",
    "@tf.function\n",
    "def get_gradients(model, inputs):\n",
    "    with tf.GradientTape() as tape:\n",
    "        inputs = tf.convert_to_tensor(inputs)\n",
    "        tape.watch(inputs)\n",
    "        predictions = model(inputs)\n",
    "    grads = tape.gradient(predictions, inputs)\n",
    "    return grads\n",
    "\n",
    "# Define a function to calculate Grad-CAM for a 1D input vector\n",
    "def calculate_grad_cam_1d(model, inputs, class_idx):\n",
    "    grads = get_gradients(model, inputs)\n",
    "    pooled_grads = tf.reduce_mean(grads, axis=0)\n",
    "    cam = pooled_grads * inputs\n",
    "    return cam.numpy()"
   ]
  },
  {
   "cell_type": "code",
   "execution_count": 33,
   "id": "ed7687f9",
   "metadata": {},
   "outputs": [],
   "source": [
    "def plot_gradCam(test_data_features,y_test,sample_id, loaded_model):\n",
    "    # Prepare a sample input (adjust as needed)\n",
    "    sample_input = test_data_features[sample_id:sample_id+1].astype(np.float32)\n",
    "\n",
    "    # Choose a class index for which you want to compute Grad-CAM (0 or 1 for binary classification)\n",
    "    class_index = y_test[sample_id:sample_id+1]\n",
    "    print(class_index)\n",
    "\n",
    "    # Compute Grad-CAM for the 1D input vector\n",
    "    grad_cam = calculate_grad_cam_1d(loaded_model, sample_input, class_index)\n",
    "\n",
    "\n",
    "    # Visualize the Grad-CAM heatmap (1D signal)\n",
    "    plt.figure(figsize=(10, 3))\n",
    "    plt.plot(grad_cam[0])\n",
    "    plt.title('Grad-CAM Heatmap (1D Signal)')\n",
    "    plt.xlabel('Input Position')\n",
    "    plt.ylabel('Grad-CAM Value')\n",
    "    plt.show()\n",
    "\n",
    "    print(sample_input.shape)\n",
    "\n",
    "    print(grad_cam.shape)  \n",
    "    print(grad_cam)        \n",
    "    \n",
    "    return grad_cam"
   ]
  },
  {
   "cell_type": "code",
   "execution_count": 34,
   "id": "50e32e8c",
   "metadata": {},
   "outputs": [],
   "source": [
    "def plot_gradCam_average(test_data_features, y_test, label, loaded_model, output_to_flatten = False):\n",
    "    # Filter samples based on the label\n",
    "    indices = np.where(y_test == label)[0]\n",
    "    if len(indices) == 0:\n",
    "        print(f\"No samples found with label {label}\")\n",
    "        return\n",
    "\n",
    "    # Prepare the input data for the selected samples\n",
    "    #sample_inputs = test_data_features[indices].astype(np.float32)\n",
    "    #print(sample_inputs.shape)\n",
    "\n",
    "    # Compute Grad-CAM for each input sample\n",
    "    grad_cams = []\n",
    "    if not output_to_flatten:\n",
    "        for index in indices:\n",
    "            sample_input = test_data_features[index:index+1].astype(np.float32)\n",
    "            # Compute Grad-CAM for the 1D input vector\n",
    "            class_index = np.array([[label]])  # Class index for binary classification\n",
    "            grad_cam = calculate_grad_cam_1d(loaded_model, sample_input, class_index)\n",
    "            grad_cams.append(grad_cam)\n",
    "    else:\n",
    "        sample_inputs = test_data_features[indices].astype(np.float32)\n",
    "        #print(sample_inputs.shape)\n",
    "        \n",
    "        for sample_input in sample_inputs:\n",
    "            #print(sample_input.shape)\n",
    "            reshaped_sample = sample_input.reshape(1, -1)\n",
    "            #print(reshaped_sample.shape)\n",
    "            # Compute Grad-CAM for the 1D input vector\n",
    "            class_index = np.array([[label]])  # Class index for binary classification\n",
    "            grad_cam = calculate_grad_cam_1d(loaded_model, reshaped_sample, class_index)\n",
    "            grad_cams.append(grad_cam)\n",
    "\n",
    "    # Average the Grad-CAM values over all samples\n",
    "    avg_grad_cam = np.mean(grad_cams, axis=0)\n",
    "\n",
    "    # Visualize the averaged Grad-CAM heatmap (1D signal)\n",
    "    plt.figure(figsize=(10, 3))\n",
    "    plt.plot(avg_grad_cam[0])\n",
    "    plt.title(f'Averaged Grad-CAM Heatmap for Label {label} (1D Signal)')\n",
    "    plt.xlabel('Input Position')\n",
    "    plt.ylabel('Average Grad-CAM Value')\n",
    "    plt.show()\n",
    "\n",
    "    return avg_grad_cam\n"
   ]
  },
  {
   "cell_type": "code",
   "execution_count": 35,
   "id": "679777ac",
   "metadata": {},
   "outputs": [],
   "source": [
    "def print_peaks(dataframe, grad_cam, threshold = 1.0e-07):\n",
    "    max_index = np.argmax(grad_cam)\n",
    "    print(max_index)\n",
    "\n",
    "    grad_cam_flat = grad_cam.flatten()\n",
    "    print(grad_cam_flat)\n",
    "    abs_grad_cam_flat = np.absolute(grad_cam_flat)\n",
    "    peaks, _ = find_peaks(abs_grad_cam_flat, height=threshold)  # Adjust the 'height' threshold as needed\n",
    "    print(\"Peak Indices:\", peaks)\n",
    "    \n",
    "    \n",
    "    for peak_index in peaks:\n",
    "        print(\"Peak Index:\", peak_index)\n",
    "        print(\"Column Name:\", dataframe.columns[peak_index])\n",
    "        print(\"Grad-CAM Value:\", grad_cam_flat[peak_index])#iloc[:,peak_index])\n",
    "    \n",
    "    print(\"VEP:\\n\")\n",
    "    for peak_index in peaks:\n",
    "        print(dataframe.columns[peak_index])"
   ]
  },
  {
   "cell_type": "code",
   "execution_count": 36,
   "id": "c6ea7196",
   "metadata": {},
   "outputs": [],
   "source": [
    "def log_reg_first_layer(X_train, X_test, X_valid, X_train_popStruc, X_test_popStruc, X_valid_popStruc):\n",
    "    \n",
    "    # REGRESSION\n",
    "\n",
    "    # Residuals\n",
    "    # Initialize empty arrays to store residuals\n",
    "    resid_train = np.zeros_like(X_train)\n",
    "    resid_test = np.zeros_like(X_test)\n",
    "    resid_valid = np.zeros_like(X_valid)\n",
    "\n",
    "    log_models = []\n",
    "\n",
    "\n",
    "    # Loop through each feature in the features from flatten layer ie chr 5 flatten layer is 13504\n",
    "    for i in range(X_train.shape[1]):\n",
    "        #y = layers.Dense(units=20, activation=\"linear\")(population_structure_input)\n",
    "\n",
    "        # fit linear model for current feature[i]\n",
    "        lm = LogisticRegression(multi_class='multinomial', solver='lbfgs').fit(X_train_popStruc, X_train[:,i].ravel())\n",
    "\n",
    "        # Save the linear model\n",
    "        log_models.append(lm)\n",
    "\n",
    "        # predict features explained by population structure\n",
    "        p_train = lm.predict(X_train_popStruc)#train_data_all_r_features[:,i])\n",
    "        p_test = lm.predict(X_test_popStruc)#test_data_all_r_features[:,i])\n",
    "        p_valid= lm.predict(X_valid_popStruc)#valid_data_all_r_features[:,i])\n",
    "\n",
    "        \n",
    "        #print(p_train.shape)\n",
    "        #print(X_train[:,i].shape)\n",
    "        # calculate residuals \n",
    "        resid_train[:, i] =  X_train[:,i] - p_train.reshape(-1, 1)\n",
    "        resid_test[:, i] =  X_test[:,i] - p_test.reshape(-1, 1)\n",
    "        resid_valid [:, i]=  X_valid[:,i] - p_valid.reshape(-1, 1)\n",
    "    \n",
    "    return resid_train, resid_test, resid_valid, log_models"
   ]
  },
  {
   "cell_type": "code",
   "execution_count": null,
   "id": "2f8fe429",
   "metadata": {},
   "outputs": [],
   "source": []
  },
  {
   "cell_type": "code",
   "execution_count": null,
   "id": "60c717c9",
   "metadata": {},
   "outputs": [],
   "source": []
  },
  {
   "cell_type": "code",
   "execution_count": null,
   "id": "07908073",
   "metadata": {},
   "outputs": [],
   "source": []
  },
  {
   "cell_type": "code",
   "execution_count": null,
   "id": "bec4e3b8",
   "metadata": {},
   "outputs": [],
   "source": []
  },
  {
   "cell_type": "code",
   "execution_count": null,
   "id": "7c4d704c",
   "metadata": {},
   "outputs": [],
   "source": []
  },
  {
   "cell_type": "code",
   "execution_count": null,
   "id": "8187a7bd",
   "metadata": {},
   "outputs": [],
   "source": []
  },
  {
   "cell_type": "code",
   "execution_count": null,
   "id": "034f80aa",
   "metadata": {},
   "outputs": [],
   "source": []
  },
  {
   "cell_type": "code",
   "execution_count": null,
   "id": "06a8c872",
   "metadata": {},
   "outputs": [],
   "source": []
  },
  {
   "cell_type": "code",
   "execution_count": null,
   "id": "aec5eea5",
   "metadata": {},
   "outputs": [],
   "source": []
  },
  {
   "cell_type": "code",
   "execution_count": 37,
   "id": "b1e25458",
   "metadata": {},
   "outputs": [],
   "source": [
    "geno_file_1 = \"/media/gdagasso/TOSHIBA EXT/ABCD/fusionModels/ADHD/adhd/abcd_v3_qc_mind01_maf001_hwe0001_snpsOnly_adhd1_balanced_reValued_chr5.vcf\"\n",
    "geno_file_0 = \"/media/gdagasso/TOSHIBA EXT/ABCD/fusionModels/ADHD/unaffected/abcd_v3_qc_mind01_maf001_hwe0001_snpsOnly_adhd0_balanced_reValued_chr5.vcf\""
   ]
  },
  {
   "cell_type": "code",
   "execution_count": 38,
   "id": "8e050f33",
   "metadata": {},
   "outputs": [],
   "source": [
    "same_SNPs_list = get_SNPs_merge(geno_file_1,geno_file_0)"
   ]
  },
  {
   "cell_type": "code",
   "execution_count": 39,
   "id": "621ceda1",
   "metadata": {},
   "outputs": [
    {
     "name": "stdout",
     "output_type": "stream",
     "text": [
      "(25188, 708)\n",
      "(708, 24262)\n",
      "(708, 24262, 1)\n",
      "(25019, 651)\n",
      "(651, 24262)\n",
      "(651, 24262, 1)\n"
     ]
    }
   ],
   "source": [
    "SNPs_1, list_ID_1, geno_df_1, df_1 = fix_geno_file_noOHE(geno_file_1, same_SNPs_list)#classes,\n",
    "SNPs_0, list_ID_0, geno_df_0, df_0 = fix_geno_file_noOHE(geno_file_0, same_SNPs_list)#classes,"
   ]
  },
  {
   "cell_type": "code",
   "execution_count": 40,
   "id": "5cbf6c04",
   "metadata": {},
   "outputs": [],
   "source": [
    "pop_struc_file =\"/home/gdagasso/ABCD/popStruc_AnomDetect_Datasets/abcd_v3_qc_mind01_maf005_hwe0001_snpsOnly_wHeader.eigenvec\""
   ]
  },
  {
   "cell_type": "code",
   "execution_count": 41,
   "id": "26232353",
   "metadata": {},
   "outputs": [
    {
     "name": "stdout",
     "output_type": "stream",
     "text": [
      "(708, 20)\n",
      "(650, 20)\n",
      "[]\n",
      "['NDAR_INV60WMW4VN']\n"
     ]
    }
   ],
   "source": [
    "pop_struc_1, missing_1 = read_in_popStruc(pop_struc_file, list_ID_1)\n",
    "pop_struc_0, missing_0 = read_in_popStruc(pop_struc_file, list_ID_0)\n",
    "print(missing_1)\n",
    "print(missing_0)"
   ]
  },
  {
   "cell_type": "code",
   "execution_count": 61,
   "id": "b229a27b",
   "metadata": {},
   "outputs": [
    {
     "name": "stdout",
     "output_type": "stream",
     "text": [
      "                       PC1       PC2       PC3       PC4       PC5       PC6  \\\n",
      "IID                                                                            \n",
      "NDAR_INVWX21FUMG  0.005910 -0.004560 -0.001390  0.000261 -0.001319 -0.008732   \n",
      "NDAR_INVD52N8T9J -0.001515 -0.004429  0.001256 -0.001398  0.010035 -0.004036   \n",
      "NDAR_INV7ZE3WGCX  0.005855 -0.004077  0.000905  0.026302  0.002832  0.004214   \n",
      "NDAR_INVE82EGZJB -0.020787 -0.004909 -0.001527  0.000478 -0.004369  0.001554   \n",
      "NDAR_INVN1UYXP41  0.006075 -0.005071  0.000368 -0.001566  0.006047  0.002593   \n",
      "...                    ...       ...       ...       ...       ...       ...   \n",
      "NDAR_INV8U5TGV95  0.005779 -0.005464  0.000296  0.007375  0.010560 -0.003654   \n",
      "NDAR_INVPD7VZY4U  0.003463  0.000800  0.007182 -0.004894  0.014737 -0.031920   \n",
      "NDAR_INVCLL3TR97  0.001497  0.015881  0.031727  0.026129 -0.006552  0.012807   \n",
      "NDAR_INVGUAT6C5H  0.006730 -0.005973 -0.000824  0.019726  0.002772  0.019739   \n",
      "NDAR_INV53DLM6RN  0.006531 -0.004567  0.000094 -0.006971  0.005889  0.010771   \n",
      "\n",
      "                       PC7       PC8       PC9      PC10      PC11      PC12  \\\n",
      "IID                                                                            \n",
      "NDAR_INVWX21FUMG  0.013977 -0.004868 -0.001893 -0.008406  0.007054  0.031216   \n",
      "NDAR_INVD52N8T9J  0.010984 -0.000846 -0.002287 -0.004741  0.005025  0.001207   \n",
      "NDAR_INV7ZE3WGCX -0.000294 -0.000940 -0.011605  0.007004  0.003304 -0.004631   \n",
      "NDAR_INVE82EGZJB -0.001179 -0.008923  0.006044 -0.000086  0.000881  0.004911   \n",
      "NDAR_INVN1UYXP41  0.006331  0.005517  0.014400  0.014225 -0.014074 -0.001950   \n",
      "...                    ...       ...       ...       ...       ...       ...   \n",
      "NDAR_INV8U5TGV95  0.004992  0.000044  0.015820  0.005208  0.015101 -0.008664   \n",
      "NDAR_INVPD7VZY4U -0.011967  0.002985  0.000902 -0.016530 -0.007820  0.029356   \n",
      "NDAR_INVCLL3TR97 -0.009215 -0.001272  0.002001 -0.001575 -0.003843 -0.002222   \n",
      "NDAR_INVGUAT6C5H -0.004549  0.010114 -0.021543  0.010637 -0.006130 -0.007638   \n",
      "NDAR_INV53DLM6RN  0.000716 -0.009204 -0.008812 -0.000745  0.010720 -0.002233   \n",
      "\n",
      "                      PC13      PC14      PC15      PC16      PC17      PC18  \\\n",
      "IID                                                                            \n",
      "NDAR_INVWX21FUMG  0.001816  0.000313  0.015555  0.008076  0.003194  0.009756   \n",
      "NDAR_INVD52N8T9J  0.007966 -0.003916  0.014180 -0.000378 -0.001360  0.002034   \n",
      "NDAR_INV7ZE3WGCX -0.007745  0.000916 -0.002480  0.009649 -0.016240 -0.010488   \n",
      "NDAR_INVE82EGZJB -0.008595 -0.004366  0.002275  0.004911  0.011061  0.004867   \n",
      "NDAR_INVN1UYXP41 -0.005492 -0.000931  0.002918  0.009617  0.003827 -0.000986   \n",
      "...                    ...       ...       ...       ...       ...       ...   \n",
      "NDAR_INV8U5TGV95 -0.011268  0.006119  0.002033 -0.010479  0.001261 -0.001188   \n",
      "NDAR_INVPD7VZY4U  0.006666 -0.010274  0.005311  0.001365 -0.010359  0.003640   \n",
      "NDAR_INVCLL3TR97  0.005446  0.010734  0.000204 -0.009699  0.011533  0.002213   \n",
      "NDAR_INVGUAT6C5H  0.010791 -0.000573  0.002697 -0.000627  0.024274 -0.026174   \n",
      "NDAR_INV53DLM6RN -0.012919  0.003158 -0.002115 -0.013265  0.004798 -0.001002   \n",
      "\n",
      "                      PC19      PC20  \n",
      "IID                                   \n",
      "NDAR_INVWX21FUMG -0.004168  0.004253  \n",
      "NDAR_INVD52N8T9J -0.006094 -0.003575  \n",
      "NDAR_INV7ZE3WGCX  0.009201 -0.002585  \n",
      "NDAR_INVE82EGZJB -0.000876 -0.004008  \n",
      "NDAR_INVN1UYXP41  0.016986  0.010601  \n",
      "...                    ...       ...  \n",
      "NDAR_INV8U5TGV95  0.004440 -0.010981  \n",
      "NDAR_INVPD7VZY4U  0.009271  0.010517  \n",
      "NDAR_INVCLL3TR97 -0.000832 -0.009067  \n",
      "NDAR_INVGUAT6C5H  0.018873  0.030713  \n",
      "NDAR_INV53DLM6RN -0.012719 -0.008639  \n",
      "\n",
      "[708 rows x 20 columns]\n"
     ]
    }
   ],
   "source": [
    "print(pop_struc_1)"
   ]
  },
  {
   "cell_type": "code",
   "execution_count": 42,
   "id": "55abf583",
   "metadata": {},
   "outputs": [
    {
     "name": "stdout",
     "output_type": "stream",
     "text": [
      "(651, 24262, 1)\n",
      "NDAR_INV60WMW4VN   416\n",
      "(650, 24262, 1)\n",
      "650\n"
     ]
    }
   ],
   "source": [
    "geno_df_0_dropped, list_ID_0_dropped = drop_missing(missing_0, list_ID_0, geno_df_0)"
   ]
  },
  {
   "cell_type": "markdown",
   "id": "3d6dffff",
   "metadata": {},
   "source": [
    "# Split Data"
   ]
  },
  {
   "cell_type": "code",
   "execution_count": 43,
   "id": "1430c4b6",
   "metadata": {},
   "outputs": [
    {
     "name": "stdout",
     "output_type": "stream",
     "text": [
      "1358\n",
      "(950, 24262, 1)\n",
      "(204, 24262, 1)\n"
     ]
    }
   ],
   "source": [
    "X_train, X_test, X_valid, y_train, y_test, y_valid, ids_train, ids_test, ids_valid = split_data(list_ID_1, list_ID_0_dropped, geno_df_1, geno_df_0_dropped, test_size=0.3, valid_size=0.5, random_state=None)"
   ]
  },
  {
   "cell_type": "code",
   "execution_count": 44,
   "id": "720ea4b7",
   "metadata": {},
   "outputs": [
    {
     "name": "stdout",
     "output_type": "stream",
     "text": [
      "(950,)\n"
     ]
    }
   ],
   "source": [
    "print(y_train.shape)"
   ]
  },
  {
   "cell_type": "code",
   "execution_count": 128,
   "id": "951e0038",
   "metadata": {},
   "outputs": [
    {
     "name": "stdout",
     "output_type": "stream",
     "text": [
      "Saved: /media/gdagasso/TOSHIBA EXT/ABCD/Regression_PopStruc_Model/TRAIN_adhd_chr5_ids.csv\n",
      "Saved: /media/gdagasso/TOSHIBA EXT/ABCD/Regression_PopStruc_Model/TEST_adhd_chr5_ids.csv\n",
      "Saved: /media/gdagasso/TOSHIBA EXT/ABCD/Regression_PopStruc_Model/VALID_adhd_chr5_ids.csv\n"
     ]
    }
   ],
   "source": [
    "# save_split(X_train,ids_train,y_train,\"/media/gdagasso/TOSHIBA EXT/ABCD/Regression_PopStruc_Model/TRAIN_adhd_chr5_ids.csv\")\n",
    "# save_split(X_test,ids_test,y_test,\"/media/gdagasso/TOSHIBA EXT/ABCD/Regression_PopStruc_Model/TEST_adhd_chr5_ids.csv\")\n",
    "# save_split(X_valid,ids_valid,y_valid,\"/media/gdagasso/TOSHIBA EXT/ABCD/Regression_PopStruc_Model/VALID_adhd_chr5_ids.csv\")\n"
   ]
  },
  {
   "cell_type": "code",
   "execution_count": 45,
   "id": "7f93646f",
   "metadata": {},
   "outputs": [
    {
     "name": "stdout",
     "output_type": "stream",
     "text": [
      "{0.0: 455, 1.0: 495}\n",
      "{0.0: 97, 1.0: 107}\n"
     ]
    }
   ],
   "source": [
    "unique, counts = np.unique(y_train, return_counts=True)\n",
    "print(dict(zip(unique, counts)))\n",
    "\n",
    "unique, counts = np.unique(y_valid, return_counts=True)\n",
    "print(dict(zip(unique, counts)))"
   ]
  },
  {
   "cell_type": "code",
   "execution_count": 46,
   "id": "ce566371",
   "metadata": {},
   "outputs": [
    {
     "name": "stdout",
     "output_type": "stream",
     "text": [
      "(950, 24262, 1)\n",
      "(950,)\n"
     ]
    }
   ],
   "source": [
    "print(X_train.shape)\n",
    "print(y_train.shape)\n",
    "#print(ids_train.shape)\n",
    "#y_train = y_train.reshape(-1, 1)\n",
    "#y_valid = y_valid.reshape(-1, 1)\n",
    "#print(y_train.shape)"
   ]
  },
  {
   "cell_type": "code",
   "execution_count": 47,
   "id": "aa03cc09",
   "metadata": {},
   "outputs": [],
   "source": [
    "# popStruc\n",
    "X_train_popStruc, X_test_popStruc, X_valid_popStruc = split_popStruc(ids_train, ids_test, ids_valid, pop_struc_1,pop_struc_0)"
   ]
  },
  {
   "cell_type": "code",
   "execution_count": null,
   "id": "e0babbb7",
   "metadata": {},
   "outputs": [],
   "source": []
  },
  {
   "cell_type": "code",
   "execution_count": 48,
   "id": "07a8cf0c",
   "metadata": {},
   "outputs": [
    {
     "name": "stdout",
     "output_type": "stream",
     "text": [
      "(950, 20)\n",
      "(204, 20)\n"
     ]
    }
   ],
   "source": [
    "print(X_train_popStruc.shape)\n",
    "print(X_test_popStruc.shape)"
   ]
  },
  {
   "cell_type": "markdown",
   "id": "04b80401",
   "metadata": {},
   "source": [
    "# Regress out"
   ]
  },
  {
   "cell_type": "code",
   "execution_count": 49,
   "id": "d2484bf0",
   "metadata": {},
   "outputs": [],
   "source": [
    "resid_train, resid_test, resid_valid, log_models = log_reg_first_layer(X_train, X_test, X_valid, X_train_popStruc, X_test_popStruc, X_valid_popStruc)"
   ]
  },
  {
   "cell_type": "code",
   "execution_count": 50,
   "id": "e3d049f8",
   "metadata": {},
   "outputs": [
    {
     "name": "stdout",
     "output_type": "stream",
     "text": [
      "(204, 24262, 1)\n"
     ]
    }
   ],
   "source": [
    "print(resid_test.shape)"
   ]
  },
  {
   "cell_type": "code",
   "execution_count": 69,
   "id": "18b66f6e",
   "metadata": {},
   "outputs": [
    {
     "name": "stdout",
     "output_type": "stream",
     "text": [
      "Saved:  /media/gdagasso/TOSHIBA EXT/ABCD/Regression_PopStruc_Model/resid_regressedAtInput_train.csv\n",
      "Saved:  /media/gdagasso/TOSHIBA EXT/ABCD/Regression_PopStruc_Model/resid_regressedAtInput_test.csv\n",
      "Saved:  /media/gdagasso/TOSHIBA EXT/ABCD/Regression_PopStruc_Model/resid_regressedAtInput_valid.csv\n"
     ]
    }
   ],
   "source": [
    "#save_resids(np.squeeze(resid_train),ids_train,\"/media/gdagasso/TOSHIBA EXT/ABCD/Regression_PopStruc_Model/resid_regressedAtInput_train.csv\")\n",
    "#save_resids(np.squeeze(resid_test),ids_test,\"/media/gdagasso/TOSHIBA EXT/ABCD/Regression_PopStruc_Model/resid_regressedAtInput_test.csv\")\n",
    "#save_resids(np.squeeze(resid_valid),ids_valid,\"/media/gdagasso/TOSHIBA EXT/ABCD/Regression_PopStruc_Model/resid_regressedAtInput_valid.csv\")\n"
   ]
  },
  {
   "cell_type": "code",
   "execution_count": null,
   "id": "ba21d880",
   "metadata": {},
   "outputs": [],
   "source": []
  },
  {
   "cell_type": "code",
   "execution_count": null,
   "id": "0cc2fac8",
   "metadata": {},
   "outputs": [],
   "source": []
  },
  {
   "cell_type": "code",
   "execution_count": null,
   "id": "c331fcd5",
   "metadata": {},
   "outputs": [],
   "source": []
  },
  {
   "cell_type": "markdown",
   "id": "2971e407",
   "metadata": {},
   "source": [
    "# CNN - regressed at input layer"
   ]
  },
  {
   "cell_type": "code",
   "execution_count": 61,
   "id": "641f89d2",
   "metadata": {},
   "outputs": [],
   "source": [
    "lr_callback = tf.keras.callbacks.LearningRateScheduler(scheduler, verbose=1)\n"
   ]
  },
  {
   "cell_type": "code",
   "execution_count": 62,
   "id": "ac034305",
   "metadata": {},
   "outputs": [
    {
     "name": "stderr",
     "output_type": "stream",
     "text": [
      "/home/gdagasso/anaconda3/envs/fusionImgs/lib/python3.10/site-packages/keras/optimizers/optimizer_v2/adam.py:114: UserWarning: The `lr` argument is deprecated, use `learning_rate` instead.\n",
      "  super().__init__(name, **kwargs)\n",
      "2024-02-22 16:10:16.566875: I tensorflow/stream_executor/cuda/cuda_gpu_executor.cc:980] successful NUMA node read from SysFS had negative value (-1), but there must be at least one NUMA node, so returning NUMA node zero\n",
      "2024-02-22 16:10:16.582026: I tensorflow/stream_executor/cuda/cuda_gpu_executor.cc:980] successful NUMA node read from SysFS had negative value (-1), but there must be at least one NUMA node, so returning NUMA node zero\n",
      "2024-02-22 16:10:16.582169: I tensorflow/stream_executor/cuda/cuda_gpu_executor.cc:980] successful NUMA node read from SysFS had negative value (-1), but there must be at least one NUMA node, so returning NUMA node zero\n",
      "2024-02-22 16:10:16.582466: I tensorflow/core/platform/cpu_feature_guard.cc:193] This TensorFlow binary is optimized with oneAPI Deep Neural Network Library (oneDNN) to use the following CPU instructions in performance-critical operations:  SSE4.1 SSE4.2 AVX AVX2 AVX512F AVX512_VNNI FMA\n",
      "To enable them in other operations, rebuild TensorFlow with the appropriate compiler flags.\n",
      "2024-02-22 16:10:16.583376: I tensorflow/stream_executor/cuda/cuda_gpu_executor.cc:980] successful NUMA node read from SysFS had negative value (-1), but there must be at least one"
     ]
    },
    {
     "name": "stdout",
     "output_type": "stream",
     "text": [
      "Model: \"model\"\n",
      "_________________________________________________________________\n",
      " Layer (type)                Output Shape              Param #   \n",
      "=================================================================\n",
      " InputA (InputLayer)         [(None, 24262, 1)]        0         \n",
      "                                                                 \n",
      " conv1G (Conv1D)             (None, 24232, 16)         512       \n",
      "                                                                 \n",
      " batch_normalization (BatchN  (None, 24232, 16)        64        \n",
      " ormalization)                                                   \n",
      "                                                                 \n",
      " pool1G (MaxPooling1D)       (None, 4038, 16)          0         \n",
      "                                                                 \n",
      " conv2G (Conv1D)             (None, 4024, 32)          7712      \n",
      "                                                                 \n",
      " batch_normalization_1 (Batc  (None, 4024, 32)         128       \n",
      " hNormalization)                                                 \n",
      "                                                                 \n",
      " pool2G (MaxPooling1D)       (None, 1341, 32)          0         \n",
      "                                                                 \n",
      " flatten (Flatten)           (None, 42912)             0         \n",
      "                                                                 \n",
      " dense (Dense)               (None, 512)               21971456  \n",
      "                                                                 \n",
      " dense_1 (Dense)             (None, 256)               131328    \n",
      "                                                                 \n",
      " dropout (Dropout)           (None, 256)               0         \n",
      "                                                                 \n",
      " dense_2 (Dense)             (None, 128)               32896     \n",
      "                                                                 \n",
      " dense_3 (Dense)             (None, 1)                 129       \n",
      "                                                                 \n",
      "=================================================================\n",
      "Total params: 22,144,225\n",
      "Trainable params: 22,144,129\n",
      "Non-trainable params: 96\n",
      "_________________________________________________________________\n"
     ]
    },
    {
     "name": "stderr",
     "output_type": "stream",
     "text": [
      " NUMA node, so returning NUMA node zero\n",
      "2024-02-22 16:10:16.583494: I tensorflow/stream_executor/cuda/cuda_gpu_executor.cc:980] successful NUMA node read from SysFS had negative value (-1), but there must be at least one NUMA node, so returning NUMA node zero\n",
      "2024-02-22 16:10:16.583602: I tensorflow/stream_executor/cuda/cuda_gpu_executor.cc:980] successful NUMA node read from SysFS had negative value (-1), but there must be at least one NUMA node, so returning NUMA node zero\n",
      "2024-02-22 16:10:16.636390: I tensorflow/stream_executor/cuda/cuda_gpu_executor.cc:980] successful NUMA node read from SysFS had negative value (-1), but there must be at least one NUMA node, so returning NUMA node zero\n",
      "2024-02-22 16:10:16.636526: I tensorflow/stream_executor/cuda/cuda_gpu_executor.cc:980] successful NUMA node read from SysFS had negative value (-1), but there must be at least one NUMA node, so returning NUMA node zero\n",
      "2024-02-22 16:10:16.636612: I tensorflow/stream_executor/cuda/cuda_gpu_executor.cc:980] successful NUMA node read from SysFS had negative value (-1), but there must be at least one NUMA node, so returning NUMA node zero\n",
      "2024-02-22 16:10:16.636678: I tensorflow/core/common_runtime/gpu/gpu_device.cc:1616] Created device /job:localhost/replica:0/task:0/device:GPU:0 with 20267 MB memory:  -> device: 0, name: NVIDIA GeForce RTX 3090, pci bus id: 0000:02:00.0, compute capability: 8.6\n"
     ]
    }
   ],
   "source": [
    "model = compile_model(len(same_SNPs_list),1)"
   ]
  },
  {
   "cell_type": "code",
   "execution_count": 63,
   "id": "0c45cb80",
   "metadata": {},
   "outputs": [],
   "source": [
    "model_file_path = \"/media/gdagasso/TOSHIBA EXT/ABCD/Regression_PopStruc_Model/Models/\"\n",
    "model_name = \"cnn_1d_binaryClassifier_regressedAtInput_lr1e3\"\n",
    "#model_regressed = \"mlp_regressed_cnn_output.h5\"\n",
    "\n",
    "cnn_model_path = model_file_path + model_name\n",
    "#regressed_model_path = model_file_path + model_regressed"
   ]
  },
  {
   "cell_type": "code",
   "execution_count": 64,
   "id": "a145d5b3",
   "metadata": {},
   "outputs": [
    {
     "name": "stdout",
     "output_type": "stream",
     "text": [
      "Current Time = 16:10:16\n"
     ]
    }
   ],
   "source": [
    "from datetime import datetime\n",
    "\n",
    "now = datetime.now()\n",
    "\n",
    "current_time = now.strftime(\"%H:%M:%S\")\n",
    "print(\"Current Time =\", current_time)"
   ]
  },
  {
   "cell_type": "code",
   "execution_count": 65,
   "id": "764779e8",
   "metadata": {},
   "outputs": [],
   "source": [
    "checkpoint_callback = tf.keras.callbacks.ModelCheckpoint(filepath=f\"{cnn_model_path}_epoch{{epoch}}_loss{{val_loss:.4f}}_acc{{val_accuracy:.4f}}_{datetime.now().strftime('%Y%m%d_%H%M%S')}.h5\"\n",
    "                                                         , monitor='val_loss', verbose=2, save_best_only=True, include_optimizer=True, save_weights_only=False, mode='auto',\n",
    "                                                         save_freq='epoch')"
   ]
  },
  {
   "cell_type": "code",
   "execution_count": 66,
   "id": "cc82156e",
   "metadata": {},
   "outputs": [],
   "source": [
    "from tensorflow.keras.callbacks import ReduceLROnPlateau\n",
    "\n",
    "# Define a learning rate scheduler callback\n",
    "reduce_lr = ReduceLROnPlateau(monitor='val_loss',  # Monitor validation loss\n",
    "                              factor=0.2,          # Factor by which the learning rate will be reduced\n",
    "                              patience=5,          # Number of epochs with no improvement after which learning rate will be reduced\n",
    "                              min_lr=0.00001)      # Lower bound on the learning rate\n"
   ]
  },
  {
   "cell_type": "code",
   "execution_count": 70,
   "id": "fe671c71",
   "metadata": {},
   "outputs": [
    {
     "name": "stdout",
     "output_type": "stream",
     "text": [
      "Epoch 1/80\n"
     ]
    },
    {
     "name": "stderr",
     "output_type": "stream",
     "text": [
      "2024-02-22 16:12:48.978253: I tensorflow/stream_executor/cuda/cuda_dnn.cc:384] Loaded cuDNN version 8401\n",
      "2024-02-22 16:12:49.735401: I tensorflow/stream_executor/cuda/cuda_blas.cc:1614] TensorFloat-32 will be used for the matrix multiplication. This will only be logged once.\n"
     ]
    },
    {
     "name": "stdout",
     "output_type": "stream",
     "text": [
      "\n",
      "Epoch 1: val_loss improved from inf to 0.95453, saving model to /media/gdagasso/TOSHIBA EXT/ABCD/Regression_PopStruc_Model/Models/cnn_1d_binaryClassifier_regressedAtInput_lr1e3_epoch1_loss0.9545_acc0.5294_20240222_161016.h5\n",
      "119/119 - 3s - loss: 1.9488 - accuracy: 0.5253 - precision: 0.5438 - recall: 0.5515 - val_loss: 0.9545 - val_accuracy: 0.5294 - val_precision: 0.7391 - val_recall: 0.1589 - lr: 0.0010 - 3s/epoch - 23ms/step\n",
      "Epoch 2/80\n",
      "\n",
      "Epoch 2: val_loss did not improve from 0.95453\n",
      "119/119 - 1s - loss: 0.6671 - accuracy: 0.8074 - precision: 0.8133 - recall: 0.8182 - val_loss: 1.6103 - val_accuracy: 0.5245 - val_precision: 0.5245 - val_recall: 1.0000 - lr: 0.0010 - 568ms/epoch - 5ms/step\n",
      "Epoch 3/80\n",
      "\n",
      "Epoch 3: val_loss improved from 0.95453 to 0.78024, saving model to /media/gdagasso/TOSHIBA EXT/ABCD/Regression_PopStruc_Model/Models/cnn_1d_binaryClassifier_regressedAtInput_lr1e3_epoch3_loss0.7802_acc0.6716_20240222_161016.h5\n",
      "119/119 - 1s - loss: 0.2502 - accuracy: 0.9768 - precision: 0.9836 - recall: 0.9717 - val_loss: 0.7802 - val_accuracy: 0.6716 - val_precision: 0.6471 - val_recall: 0.8224 - lr: 0.0010 - 814ms/epoch - 7ms/step\n",
      "Epoch 4/80\n",
      "\n",
      "Epoch 4: val_loss improved from 0.78024 to 0.65798, saving model to /media/gdagasso/TOSHIBA EXT/ABCD/Regression_PopStruc_Model/Models/cnn_1d_binaryClassifier_regressedAtInput_lr1e3_epoch4_loss0.6580_acc0.7549_20240222_161016.h5\n",
      "119/119 - 1s - loss: 0.1992 - accuracy: 0.9853 - precision: 0.9859 - recall: 0.9859 - val_loss: 0.6580 - val_accuracy: 0.7549 - val_precision: 1.0000 - val_recall: 0.5327 - lr: 0.0010 - 820ms/epoch - 7ms/step\n",
      "Epoch 5/80\n",
      "\n",
      "Epoch 5: val_loss did not improve from 0.65798\n",
      "119/119 - 1s - loss: 0.2608 - accuracy: 0.9600 - precision: 0.9673 - recall: 0.9556 - val_loss: 0.8507 - val_accuracy: 0.7745 - val_precision: 1.0000 - val_recall: 0.5701 - lr: 0.0010 - 563ms/epoch - 5ms/step\n",
      "Epoch 6/80\n",
      "\n",
      "Epoch 6: val_loss did not improve from 0.65798\n",
      "119/119 - 1s - loss: 0.1634 - accuracy: 0.9916 - precision: 0.9939 - recall: 0.9899 - val_loss: 1.4383 - val_accuracy: 0.7451 - val_precision: 0.6730 - val_recall: 1.0000 - lr: 0.0010 - 567ms/epoch - 5ms/step\n",
      "Epoch 7/80\n",
      "\n",
      "Epoch 7: val_loss improved from 0.65798 to 0.38119, saving model to /media/gdagasso/TOSHIBA EXT/ABCD/Regression_PopStruc_Model/Models/cnn_1d_binaryClassifier_regressedAtInput_lr1e3_epoch7_loss0.3812_acc0.8824_20240222_161016.h5\n",
      "119/119 - 1s - loss: 0.1492 - accuracy: 0.9926 - precision: 0.9919 - recall: 0.9939 - val_loss: 0.3812 - val_accuracy: 0.8824 - val_precision: 0.9663 - val_recall: 0.8037 - lr: 0.0010 - 816ms/epoch - 7ms/step\n",
      "Epoch 8/80\n",
      "\n",
      "Epoch 8: val_loss improved from 0.38119 to 0.33788, saving model to /media/gdagasso/TOSHIBA EXT/ABCD/Regression_PopStruc_Model/Models/cnn_1d_binaryClassifier_regressedAtInput_lr1e3_epoch8_loss0.3379_acc0.9363_20240222_161016.h5\n",
      "119/119 - 1s - loss: 0.1572 - accuracy: 0.9884 - precision: 0.9859 - recall: 0.9919 - val_loss: 0.3379 - val_accuracy: 0.9363 - val_precision: 0.9196 - val_recall: 0.9626 - lr: 0.0010 - 799ms/epoch - 7ms/step\n",
      "Epoch 9/80\n",
      "\n",
      "Epoch 9: val_loss did not improve from 0.33788\n",
      "119/119 - 1s - loss: 0.1334 - accuracy: 0.9895 - precision: 0.9919 - recall: 0.9879 - val_loss: 5.3771 - val_accuracy: 0.4804 - val_precision: 1.0000 - val_recall: 0.0093 - lr: 0.0010 - 590ms/epoch - 5ms/step\n",
      "Epoch 10/80\n",
      "\n",
      "Epoch 10: val_loss improved from 0.33788 to 0.24234, saving model to /media/gdagasso/TOSHIBA EXT/ABCD/Regression_PopStruc_Model/Models/cnn_1d_binaryClassifier_regressedAtInput_lr1e3_epoch10_loss0.2423_acc0.9461_20240222_161016.h5\n",
      "119/119 - 1s - loss: 0.1390 - accuracy: 0.9842 - precision: 0.9839 - recall: 0.9859 - val_loss: 0.2423 - val_accuracy: 0.9461 - val_precision: 0.9286 - val_recall: 0.9720 - lr: 0.0010 - 791ms/epoch - 7ms/step\n",
      "Epoch 11/80\n",
      "\n",
      "Epoch 11: val_loss did not improve from 0.24234\n",
      "119/119 - 1s - loss: 0.1206 - accuracy: 0.9884 - precision: 0.9859 - recall: 0.9919 - val_loss: 1.1149 - val_accuracy: 0.8186 - val_precision: 0.7431 - val_recall: 1.0000 - lr: 0.0010 - 563ms/epoch - 5ms/step\n",
      "Epoch 12/80\n",
      "\n",
      "Epoch 12: val_loss did not improve from 0.24234\n",
      "119/119 - 1s - loss: 0.1362 - accuracy: 0.9863 - precision: 0.9879 - recall: 0.9859 - val_loss: 0.2693 - val_accuracy: 0.9265 - val_precision: 0.9510 - val_recall: 0.9065 - lr: 0.0010 - 569ms/epoch - 5ms/step\n",
      "Epoch 13/80\n",
      "\n",
      "Epoch 13: val_loss improved from 0.24234 to 0.20928, saving model to /media/gdagasso/TOSHIBA EXT/ABCD/Regression_PopStruc_Model/Models/cnn_1d_binaryClassifier_regressedAtInput_lr1e3_epoch13_loss0.2093_acc0.9559_20240222_161016.h5\n",
      "119/119 - 1s - loss: 0.0918 - accuracy: 0.9958 - precision: 0.9960 - recall: 0.9960 - val_loss: 0.2093 - val_accuracy: 0.9559 - val_precision: 0.9224 - val_recall: 1.0000 - lr: 0.0010 - 798ms/epoch - 7ms/step\n",
      "Epoch 14/80\n",
      "\n",
      "Epoch 14: val_loss improved from 0.20928 to 0.17857, saving model to /media/gdagasso/TOSHIBA EXT/ABCD/Regression_PopStruc_Model/Models/cnn_1d_binaryClassifier_regressedAtInput_lr1e3_epoch14_loss0.1786_acc0.9608_20240222_161016.h5\n",
      "119/119 - 1s - loss: 0.0863 - accuracy: 0.9947 - precision: 0.9960 - recall: 0.9939 - val_loss: 0.1786 - val_accuracy: 0.9608 - val_precision: 0.9304 - val_recall: 1.0000 - lr: 0.0010 - 796ms/epoch - 7ms/step\n",
      "Epoch 15/80\n",
      "\n",
      "Epoch 15: val_loss did not improve from 0.17857\n",
      "119/119 - 1s - loss: 0.1037 - accuracy: 0.9884 - precision: 0.9919 - recall: 0.9859 - val_loss: 1.4447 - val_accuracy: 0.8137 - val_precision: 1.0000 - val_recall: 0.6449 - lr: 0.0010 - 565ms/epoch - 5ms/step\n",
      "Epoch 16/80\n",
      "\n",
      "Epoch 16: val_loss did not improve from 0.17857\n",
      "119/119 - 1s - loss: 0.0724 - accuracy: 0.9958 - precision: 0.9960 - recall: 0.9960 - val_loss: 1.5829 - val_accuracy: 0.7892 - val_precision: 0.7133 - val_recall: 1.0000 - lr: 0.0010 - 566ms/epoch - 5ms/step\n",
      "Epoch 17/80\n",
      "\n",
      "Epoch 17: val_loss did not improve from 0.17857\n",
      "119/119 - 1s - loss: 0.0586 - accuracy: 1.0000 - precision: 1.0000 - recall: 1.0000 - val_loss: 0.2056 - val_accuracy: 0.9510 - val_precision: 0.9145 - val_recall: 1.0000 - lr: 0.0010 - 558ms/epoch - 5ms/step\n",
      "Epoch 18/80\n",
      "\n",
      "Epoch 18: val_loss did not improve from 0.17857\n",
      "119/119 - 1s - loss: 0.1561 - accuracy: 0.9674 - precision: 0.9659 - recall: 0.9717 - val_loss: 0.6036 - val_accuracy: 0.8775 - val_precision: 1.0000 - val_recall: 0.7664 - lr: 0.0010 - 577ms/epoch - 5ms/step\n",
      "Epoch 19/80\n",
      "\n",
      "Epoch 19: val_loss did not improve from 0.17857\n",
      "119/119 - 1s - loss: 0.0786 - accuracy: 0.9968 - precision: 0.9980 - recall: 0.9960 - val_loss: 6.5756 - val_accuracy: 0.5588 - val_precision: 0.5431 - val_recall: 1.0000 - lr: 0.0010 - 558ms/epoch - 5ms/step\n",
      "Epoch 20/80\n",
      "\n",
      "Epoch 20: val_loss did not improve from 0.17857\n",
      "119/119 - 1s - loss: 0.0605 - accuracy: 0.9979 - precision: 0.9980 - recall: 0.9980 - val_loss: 0.2139 - val_accuracy: 0.9755 - val_precision: 0.9554 - val_recall: 1.0000 - lr: 2.0000e-04 - 570ms/epoch - 5ms/step\n",
      "Epoch 21/80\n",
      "\n",
      "Epoch 21: val_loss improved from 0.17857 to 0.16412, saving model to /media/gdagasso/TOSHIBA EXT/ABCD/Regression_PopStruc_Model/Models/cnn_1d_binaryClassifier_regressedAtInput_lr1e3_epoch21_loss0.1641_acc0.9755_20240222_161016.h5\n",
      "119/119 - 1s - loss: 0.0560 - accuracy: 1.0000 - precision: 1.0000 - recall: 1.0000 - val_loss: 0.1641 - val_accuracy: 0.9755 - val_precision: 0.9722 - val_recall: 0.9813 - lr: 2.0000e-04 - 793ms/epoch - 7ms/step\n",
      "Epoch 22/80\n",
      "\n",
      "Epoch 22: val_loss did not improve from 0.16412\n",
      "119/119 - 1s - loss: 0.0543 - accuracy: 1.0000 - precision: 1.0000 - recall: 1.0000 - val_loss: 0.1718 - val_accuracy: 0.9755 - val_precision: 0.9722 - val_recall: 0.9813 - lr: 2.0000e-04 - 601ms/epoch - 5ms/step\n",
      "Epoch 23/80\n",
      "\n",
      "Epoch 23: val_loss did not improve from 0.16412\n",
      "119/119 - 1s - loss: 0.0527 - accuracy: 1.0000 - precision: 1.0000 - recall: 1.0000 - val_loss: 0.1776 - val_accuracy: 0.9706 - val_precision: 0.9720 - val_recall: 0.9720 - lr: 2.0000e-04 - 591ms/epoch - 5ms/step\n",
      "Epoch 24/80\n",
      "\n",
      "Epoch 24: val_loss did not improve from 0.16412\n",
      "119/119 - 1s - loss: 0.0510 - accuracy: 1.0000 - precision: 1.0000 - recall: 1.0000 - val_loss: 0.1831 - val_accuracy: 0.9706 - val_precision: 0.9720 - val_recall: 0.9720 - lr: 2.0000e-04 - 582ms/epoch - 5ms/step\n",
      "Epoch 25/80\n",
      "\n",
      "Epoch 25: val_loss did not improve from 0.16412\n",
      "119/119 - 1s - loss: 0.0494 - accuracy: 1.0000 - precision: 1.0000 - recall: 1.0000 - val_loss: 0.1849 - val_accuracy: 0.9706 - val_precision: 0.9720 - val_recall: 0.9720 - lr: 2.0000e-04 - 573ms/epoch - 5ms/step\n"
     ]
    },
    {
     "name": "stdout",
     "output_type": "stream",
     "text": [
      "Epoch 26/80\n",
      "\n",
      "Epoch 26: val_loss did not improve from 0.16412\n",
      "119/119 - 1s - loss: 0.0477 - accuracy: 1.0000 - precision: 1.0000 - recall: 1.0000 - val_loss: 0.1868 - val_accuracy: 0.9706 - val_precision: 0.9720 - val_recall: 0.9720 - lr: 2.0000e-04 - 587ms/epoch - 5ms/step\n",
      "Epoch 27/80\n",
      "\n",
      "Epoch 27: val_loss did not improve from 0.16412\n",
      "119/119 - 1s - loss: 0.0467 - accuracy: 1.0000 - precision: 1.0000 - recall: 1.0000 - val_loss: 0.1921 - val_accuracy: 0.9706 - val_precision: 0.9720 - val_recall: 0.9720 - lr: 4.0000e-05 - 580ms/epoch - 5ms/step\n",
      "Epoch 28/80\n",
      "\n",
      "Epoch 28: val_loss did not improve from 0.16412\n",
      "119/119 - 1s - loss: 0.0463 - accuracy: 1.0000 - precision: 1.0000 - recall: 1.0000 - val_loss: 0.1935 - val_accuracy: 0.9706 - val_precision: 0.9720 - val_recall: 0.9720 - lr: 4.0000e-05 - 580ms/epoch - 5ms/step\n",
      "Epoch 29/80\n",
      "\n",
      "Epoch 29: val_loss did not improve from 0.16412\n",
      "119/119 - 1s - loss: 0.0460 - accuracy: 1.0000 - precision: 1.0000 - recall: 1.0000 - val_loss: 0.1941 - val_accuracy: 0.9706 - val_precision: 0.9720 - val_recall: 0.9720 - lr: 4.0000e-05 - 557ms/epoch - 5ms/step\n",
      "Epoch 30/80\n",
      "\n",
      "Epoch 30: val_loss did not improve from 0.16412\n",
      "119/119 - 1s - loss: 0.0456 - accuracy: 1.0000 - precision: 1.0000 - recall: 1.0000 - val_loss: 0.1946 - val_accuracy: 0.9706 - val_precision: 0.9720 - val_recall: 0.9720 - lr: 4.0000e-05 - 584ms/epoch - 5ms/step\n",
      "Epoch 31/80\n",
      "\n",
      "Epoch 31: val_loss did not improve from 0.16412\n",
      "119/119 - 1s - loss: 0.0452 - accuracy: 1.0000 - precision: 1.0000 - recall: 1.0000 - val_loss: 0.1938 - val_accuracy: 0.9706 - val_precision: 0.9720 - val_recall: 0.9720 - lr: 4.0000e-05 - 591ms/epoch - 5ms/step\n",
      "Epoch 32/80\n",
      "\n",
      "Epoch 32: val_loss did not improve from 0.16412\n",
      "119/119 - 1s - loss: 0.0449 - accuracy: 1.0000 - precision: 1.0000 - recall: 1.0000 - val_loss: 0.1954 - val_accuracy: 0.9706 - val_precision: 0.9720 - val_recall: 0.9720 - lr: 1.0000e-05 - 588ms/epoch - 5ms/step\n",
      "Epoch 33/80\n",
      "\n",
      "Epoch 33: val_loss did not improve from 0.16412\n",
      "119/119 - 1s - loss: 0.0448 - accuracy: 1.0000 - precision: 1.0000 - recall: 1.0000 - val_loss: 0.1957 - val_accuracy: 0.9706 - val_precision: 0.9720 - val_recall: 0.9720 - lr: 1.0000e-05 - 562ms/epoch - 5ms/step\n",
      "Epoch 34/80\n",
      "\n",
      "Epoch 34: val_loss did not improve from 0.16412\n",
      "119/119 - 1s - loss: 0.0447 - accuracy: 1.0000 - precision: 1.0000 - recall: 1.0000 - val_loss: 0.1960 - val_accuracy: 0.9706 - val_precision: 0.9720 - val_recall: 0.9720 - lr: 1.0000e-05 - 551ms/epoch - 5ms/step\n",
      "Epoch 35/80\n",
      "\n",
      "Epoch 35: val_loss did not improve from 0.16412\n",
      "119/119 - 1s - loss: 0.0445 - accuracy: 1.0000 - precision: 1.0000 - recall: 1.0000 - val_loss: 0.1963 - val_accuracy: 0.9706 - val_precision: 0.9720 - val_recall: 0.9720 - lr: 1.0000e-05 - 567ms/epoch - 5ms/step\n",
      "Epoch 36/80\n",
      "\n",
      "Epoch 36: val_loss did not improve from 0.16412\n",
      "119/119 - 1s - loss: 0.0444 - accuracy: 1.0000 - precision: 1.0000 - recall: 1.0000 - val_loss: 0.1957 - val_accuracy: 0.9706 - val_precision: 0.9720 - val_recall: 0.9720 - lr: 1.0000e-05 - 590ms/epoch - 5ms/step\n",
      "Epoch 37/80\n",
      "\n",
      "Epoch 37: val_loss did not improve from 0.16412\n",
      "119/119 - 1s - loss: 0.0442 - accuracy: 1.0000 - precision: 1.0000 - recall: 1.0000 - val_loss: 0.1960 - val_accuracy: 0.9706 - val_precision: 0.9720 - val_recall: 0.9720 - lr: 1.0000e-05 - 580ms/epoch - 5ms/step\n",
      "Epoch 38/80\n",
      "\n",
      "Epoch 38: val_loss did not improve from 0.16412\n",
      "119/119 - 1s - loss: 0.0441 - accuracy: 1.0000 - precision: 1.0000 - recall: 1.0000 - val_loss: 0.1957 - val_accuracy: 0.9706 - val_precision: 0.9720 - val_recall: 0.9720 - lr: 1.0000e-05 - 573ms/epoch - 5ms/step\n",
      "Epoch 39/80\n",
      "\n",
      "Epoch 39: val_loss did not improve from 0.16412\n",
      "119/119 - 1s - loss: 0.0439 - accuracy: 1.0000 - precision: 1.0000 - recall: 1.0000 - val_loss: 0.1957 - val_accuracy: 0.9706 - val_precision: 0.9720 - val_recall: 0.9720 - lr: 1.0000e-05 - 577ms/epoch - 5ms/step\n",
      "Epoch 40/80\n",
      "\n",
      "Epoch 40: val_loss did not improve from 0.16412\n",
      "119/119 - 1s - loss: 0.0438 - accuracy: 1.0000 - precision: 1.0000 - recall: 1.0000 - val_loss: 0.1953 - val_accuracy: 0.9706 - val_precision: 0.9720 - val_recall: 0.9720 - lr: 1.0000e-05 - 574ms/epoch - 5ms/step\n",
      "Epoch 41/80\n",
      "\n",
      "Epoch 41: val_loss did not improve from 0.16412\n",
      "119/119 - 1s - loss: 0.0436 - accuracy: 1.0000 - precision: 1.0000 - recall: 1.0000 - val_loss: 0.1951 - val_accuracy: 0.9706 - val_precision: 0.9720 - val_recall: 0.9720 - lr: 1.0000e-05 - 560ms/epoch - 5ms/step\n",
      "Epoch 42/80\n",
      "\n",
      "Epoch 42: val_loss did not improve from 0.16412\n",
      "119/119 - 1s - loss: 0.0434 - accuracy: 1.0000 - precision: 1.0000 - recall: 1.0000 - val_loss: 0.1949 - val_accuracy: 0.9706 - val_precision: 0.9720 - val_recall: 0.9720 - lr: 1.0000e-05 - 561ms/epoch - 5ms/step\n",
      "Epoch 43/80\n",
      "\n",
      "Epoch 43: val_loss did not improve from 0.16412\n",
      "119/119 - 1s - loss: 0.0432 - accuracy: 1.0000 - precision: 1.0000 - recall: 1.0000 - val_loss: 0.1949 - val_accuracy: 0.9706 - val_precision: 0.9720 - val_recall: 0.9720 - lr: 1.0000e-05 - 561ms/epoch - 5ms/step\n",
      "Epoch 44/80\n",
      "\n",
      "Epoch 44: val_loss did not improve from 0.16412\n",
      "119/119 - 1s - loss: 0.0430 - accuracy: 1.0000 - precision: 1.0000 - recall: 1.0000 - val_loss: 0.1950 - val_accuracy: 0.9706 - val_precision: 0.9720 - val_recall: 0.9720 - lr: 1.0000e-05 - 576ms/epoch - 5ms/step\n",
      "Epoch 45/80\n",
      "\n",
      "Epoch 45: val_loss did not improve from 0.16412\n",
      "119/119 - 1s - loss: 0.0428 - accuracy: 1.0000 - precision: 1.0000 - recall: 1.0000 - val_loss: 0.1944 - val_accuracy: 0.9706 - val_precision: 0.9720 - val_recall: 0.9720 - lr: 1.0000e-05 - 568ms/epoch - 5ms/step\n",
      "Epoch 46/80\n",
      "\n",
      "Epoch 46: val_loss did not improve from 0.16412\n",
      "119/119 - 1s - loss: 0.0426 - accuracy: 1.0000 - precision: 1.0000 - recall: 1.0000 - val_loss: 0.1943 - val_accuracy: 0.9706 - val_precision: 0.9720 - val_recall: 0.9720 - lr: 1.0000e-05 - 580ms/epoch - 5ms/step\n",
      "Epoch 47/80\n",
      "\n",
      "Epoch 47: val_loss did not improve from 0.16412\n",
      "119/119 - 1s - loss: 0.0423 - accuracy: 1.0000 - precision: 1.0000 - recall: 1.0000 - val_loss: 0.1941 - val_accuracy: 0.9706 - val_precision: 0.9720 - val_recall: 0.9720 - lr: 1.0000e-05 - 562ms/epoch - 5ms/step\n",
      "Epoch 48/80\n",
      "\n",
      "Epoch 48: val_loss did not improve from 0.16412\n",
      "119/119 - 1s - loss: 0.0421 - accuracy: 1.0000 - precision: 1.0000 - recall: 1.0000 - val_loss: 0.1942 - val_accuracy: 0.9706 - val_precision: 0.9720 - val_recall: 0.9720 - lr: 1.0000e-05 - 570ms/epoch - 5ms/step\n",
      "Epoch 49/80\n",
      "\n",
      "Epoch 49: val_loss did not improve from 0.16412\n",
      "119/119 - 1s - loss: 0.0418 - accuracy: 1.0000 - precision: 1.0000 - recall: 1.0000 - val_loss: 0.1941 - val_accuracy: 0.9706 - val_precision: 0.9720 - val_recall: 0.9720 - lr: 1.0000e-05 - 568ms/epoch - 5ms/step\n",
      "Epoch 50/80\n",
      "\n",
      "Epoch 50: val_loss did not improve from 0.16412\n",
      "119/119 - 1s - loss: 0.0415 - accuracy: 1.0000 - precision: 1.0000 - recall: 1.0000 - val_loss: 0.1941 - val_accuracy: 0.9706 - val_precision: 0.9720 - val_recall: 0.9720 - lr: 1.0000e-05 - 561ms/epoch - 5ms/step\n",
      "Epoch 51/80\n",
      "\n",
      "Epoch 51: val_loss did not improve from 0.16412\n",
      "119/119 - 1s - loss: 0.0412 - accuracy: 1.0000 - precision: 1.0000 - recall: 1.0000 - val_loss: 0.1928 - val_accuracy: 0.9706 - val_precision: 0.9720 - val_recall: 0.9720 - lr: 1.0000e-05 - 570ms/epoch - 5ms/step\n",
      "Epoch 52/80\n",
      "\n",
      "Epoch 52: val_loss did not improve from 0.16412\n",
      "119/119 - 1s - loss: 0.0409 - accuracy: 1.0000 - precision: 1.0000 - recall: 1.0000 - val_loss: 0.1923 - val_accuracy: 0.9706 - val_precision: 0.9720 - val_recall: 0.9720 - lr: 1.0000e-05 - 581ms/epoch - 5ms/step\n",
      "Epoch 53/80\n",
      "\n",
      "Epoch 53: val_loss did not improve from 0.16412\n",
      "119/119 - 1s - loss: 0.0406 - accuracy: 1.0000 - precision: 1.0000 - recall: 1.0000 - val_loss: 0.1923 - val_accuracy: 0.9706 - val_precision: 0.9720 - val_recall: 0.9720 - lr: 1.0000e-05 - 568ms/epoch - 5ms/step\n",
      "Epoch 54/80\n",
      "\n",
      "Epoch 54: val_loss did not improve from 0.16412\n",
      "119/119 - 1s - loss: 0.0403 - accuracy: 1.0000 - precision: 1.0000 - recall: 1.0000 - val_loss: 0.1923 - val_accuracy: 0.9706 - val_precision: 0.9720 - val_recall: 0.9720 - lr: 1.0000e-05 - 573ms/epoch - 5ms/step\n",
      "Epoch 55/80\n",
      "\n",
      "Epoch 55: val_loss did not improve from 0.16412\n",
      "119/119 - 1s - loss: 0.0399 - accuracy: 1.0000 - precision: 1.0000 - recall: 1.0000 - val_loss: 0.1918 - val_accuracy: 0.9706 - val_precision: 0.9720 - val_recall: 0.9720 - lr: 1.0000e-05 - 559ms/epoch - 5ms/step\n"
     ]
    },
    {
     "name": "stdout",
     "output_type": "stream",
     "text": [
      "Epoch 56/80\n",
      "\n",
      "Epoch 56: val_loss did not improve from 0.16412\n",
      "119/119 - 1s - loss: 0.0395 - accuracy: 1.0000 - precision: 1.0000 - recall: 1.0000 - val_loss: 0.1916 - val_accuracy: 0.9706 - val_precision: 0.9720 - val_recall: 0.9720 - lr: 1.0000e-05 - 566ms/epoch - 5ms/step\n",
      "Epoch 57/80\n",
      "\n",
      "Epoch 57: val_loss did not improve from 0.16412\n",
      "119/119 - 1s - loss: 0.0391 - accuracy: 1.0000 - precision: 1.0000 - recall: 1.0000 - val_loss: 0.1916 - val_accuracy: 0.9706 - val_precision: 0.9720 - val_recall: 0.9720 - lr: 1.0000e-05 - 558ms/epoch - 5ms/step\n",
      "Epoch 58/80\n",
      "\n",
      "Epoch 58: val_loss did not improve from 0.16412\n",
      "119/119 - 1s - loss: 0.0387 - accuracy: 1.0000 - precision: 1.0000 - recall: 1.0000 - val_loss: 0.1912 - val_accuracy: 0.9706 - val_precision: 0.9720 - val_recall: 0.9720 - lr: 1.0000e-05 - 552ms/epoch - 5ms/step\n",
      "Epoch 59/80\n",
      "\n",
      "Epoch 59: val_loss did not improve from 0.16412\n",
      "119/119 - 1s - loss: 0.0383 - accuracy: 1.0000 - precision: 1.0000 - recall: 1.0000 - val_loss: 0.1910 - val_accuracy: 0.9706 - val_precision: 0.9720 - val_recall: 0.9720 - lr: 1.0000e-05 - 562ms/epoch - 5ms/step\n",
      "Epoch 60/80\n",
      "\n",
      "Epoch 60: val_loss did not improve from 0.16412\n",
      "119/119 - 1s - loss: 0.0379 - accuracy: 1.0000 - precision: 1.0000 - recall: 1.0000 - val_loss: 0.1908 - val_accuracy: 0.9706 - val_precision: 0.9720 - val_recall: 0.9720 - lr: 1.0000e-05 - 560ms/epoch - 5ms/step\n",
      "Epoch 61/80\n",
      "\n",
      "Epoch 61: val_loss did not improve from 0.16412\n",
      "119/119 - 1s - loss: 0.0374 - accuracy: 1.0000 - precision: 1.0000 - recall: 1.0000 - val_loss: 0.1904 - val_accuracy: 0.9706 - val_precision: 0.9720 - val_recall: 0.9720 - lr: 1.0000e-05 - 563ms/epoch - 5ms/step\n",
      "Epoch 62/80\n",
      "\n",
      "Epoch 62: val_loss did not improve from 0.16412\n",
      "119/119 - 1s - loss: 0.0370 - accuracy: 1.0000 - precision: 1.0000 - recall: 1.0000 - val_loss: 0.1901 - val_accuracy: 0.9706 - val_precision: 0.9720 - val_recall: 0.9720 - lr: 1.0000e-05 - 568ms/epoch - 5ms/step\n",
      "Epoch 63/80\n",
      "\n",
      "Epoch 63: val_loss did not improve from 0.16412\n",
      "119/119 - 1s - loss: 0.0365 - accuracy: 1.0000 - precision: 1.0000 - recall: 1.0000 - val_loss: 0.1896 - val_accuracy: 0.9706 - val_precision: 0.9720 - val_recall: 0.9720 - lr: 1.0000e-05 - 553ms/epoch - 5ms/step\n",
      "Epoch 64/80\n",
      "\n",
      "Epoch 64: val_loss did not improve from 0.16412\n",
      "119/119 - 1s - loss: 0.0359 - accuracy: 1.0000 - precision: 1.0000 - recall: 1.0000 - val_loss: 0.1896 - val_accuracy: 0.9706 - val_precision: 0.9720 - val_recall: 0.9720 - lr: 1.0000e-05 - 593ms/epoch - 5ms/step\n",
      "Epoch 65/80\n",
      "\n",
      "Epoch 65: val_loss did not improve from 0.16412\n",
      "119/119 - 1s - loss: 0.0354 - accuracy: 1.0000 - precision: 1.0000 - recall: 1.0000 - val_loss: 0.1892 - val_accuracy: 0.9706 - val_precision: 0.9720 - val_recall: 0.9720 - lr: 1.0000e-05 - 580ms/epoch - 5ms/step\n",
      "Epoch 66/80\n",
      "\n",
      "Epoch 66: val_loss did not improve from 0.16412\n",
      "119/119 - 1s - loss: 0.0349 - accuracy: 1.0000 - precision: 1.0000 - recall: 1.0000 - val_loss: 0.1888 - val_accuracy: 0.9706 - val_precision: 0.9720 - val_recall: 0.9720 - lr: 1.0000e-05 - 566ms/epoch - 5ms/step\n",
      "Epoch 67/80\n",
      "\n",
      "Epoch 67: val_loss did not improve from 0.16412\n",
      "119/119 - 1s - loss: 0.0343 - accuracy: 1.0000 - precision: 1.0000 - recall: 1.0000 - val_loss: 0.1887 - val_accuracy: 0.9706 - val_precision: 0.9720 - val_recall: 0.9720 - lr: 1.0000e-05 - 559ms/epoch - 5ms/step\n",
      "Epoch 68/80\n",
      "\n",
      "Epoch 68: val_loss did not improve from 0.16412\n",
      "119/119 - 1s - loss: 0.0337 - accuracy: 1.0000 - precision: 1.0000 - recall: 1.0000 - val_loss: 0.1884 - val_accuracy: 0.9706 - val_precision: 0.9720 - val_recall: 0.9720 - lr: 1.0000e-05 - 574ms/epoch - 5ms/step\n",
      "Epoch 69/80\n",
      "\n",
      "Epoch 69: val_loss did not improve from 0.16412\n",
      "119/119 - 1s - loss: 0.0331 - accuracy: 1.0000 - precision: 1.0000 - recall: 1.0000 - val_loss: 0.1879 - val_accuracy: 0.9706 - val_precision: 0.9720 - val_recall: 0.9720 - lr: 1.0000e-05 - 561ms/epoch - 5ms/step\n",
      "Epoch 70/80\n",
      "\n",
      "Epoch 70: val_loss did not improve from 0.16412\n",
      "119/119 - 1s - loss: 0.0325 - accuracy: 1.0000 - precision: 1.0000 - recall: 1.0000 - val_loss: 0.1873 - val_accuracy: 0.9706 - val_precision: 0.9720 - val_recall: 0.9720 - lr: 1.0000e-05 - 573ms/epoch - 5ms/step\n",
      "Epoch 71/80\n",
      "\n",
      "Epoch 71: val_loss did not improve from 0.16412\n",
      "119/119 - 1s - loss: 0.0319 - accuracy: 1.0000 - precision: 1.0000 - recall: 1.0000 - val_loss: 0.1864 - val_accuracy: 0.9706 - val_precision: 0.9720 - val_recall: 0.9720 - lr: 1.0000e-05 - 600ms/epoch - 5ms/step\n",
      "Epoch 72/80\n",
      "\n",
      "Epoch 72: val_loss did not improve from 0.16412\n",
      "119/119 - 1s - loss: 0.0313 - accuracy: 1.0000 - precision: 1.0000 - recall: 1.0000 - val_loss: 0.1859 - val_accuracy: 0.9706 - val_precision: 0.9720 - val_recall: 0.9720 - lr: 1.0000e-05 - 605ms/epoch - 5ms/step\n",
      "Epoch 73/80\n",
      "\n",
      "Epoch 73: val_loss did not improve from 0.16412\n",
      "119/119 - 1s - loss: 0.0306 - accuracy: 1.0000 - precision: 1.0000 - recall: 1.0000 - val_loss: 0.1854 - val_accuracy: 0.9706 - val_precision: 0.9720 - val_recall: 0.9720 - lr: 1.0000e-05 - 565ms/epoch - 5ms/step\n",
      "Epoch 74/80\n",
      "\n",
      "Epoch 74: val_loss did not improve from 0.16412\n",
      "119/119 - 1s - loss: 0.0300 - accuracy: 1.0000 - precision: 1.0000 - recall: 1.0000 - val_loss: 0.1837 - val_accuracy: 0.9706 - val_precision: 0.9720 - val_recall: 0.9720 - lr: 1.0000e-05 - 560ms/epoch - 5ms/step\n",
      "Epoch 75/80\n",
      "\n",
      "Epoch 75: val_loss did not improve from 0.16412\n",
      "119/119 - 1s - loss: 0.0292 - accuracy: 1.0000 - precision: 1.0000 - recall: 1.0000 - val_loss: 0.1838 - val_accuracy: 0.9706 - val_precision: 0.9720 - val_recall: 0.9720 - lr: 1.0000e-05 - 578ms/epoch - 5ms/step\n",
      "Epoch 76/80\n",
      "\n",
      "Epoch 76: val_loss did not improve from 0.16412\n",
      "119/119 - 1s - loss: 0.0286 - accuracy: 1.0000 - precision: 1.0000 - recall: 1.0000 - val_loss: 0.1830 - val_accuracy: 0.9706 - val_precision: 0.9720 - val_recall: 0.9720 - lr: 1.0000e-05 - 584ms/epoch - 5ms/step\n",
      "Epoch 77/80\n",
      "\n",
      "Epoch 77: val_loss did not improve from 0.16412\n",
      "119/119 - 1s - loss: 0.0279 - accuracy: 1.0000 - precision: 1.0000 - recall: 1.0000 - val_loss: 0.1823 - val_accuracy: 0.9706 - val_precision: 0.9720 - val_recall: 0.9720 - lr: 1.0000e-05 - 577ms/epoch - 5ms/step\n",
      "Epoch 78/80\n",
      "\n",
      "Epoch 78: val_loss did not improve from 0.16412\n",
      "119/119 - 1s - loss: 0.0272 - accuracy: 1.0000 - precision: 1.0000 - recall: 1.0000 - val_loss: 0.1817 - val_accuracy: 0.9706 - val_precision: 0.9720 - val_recall: 0.9720 - lr: 1.0000e-05 - 592ms/epoch - 5ms/step\n",
      "Epoch 79/80\n",
      "\n",
      "Epoch 79: val_loss did not improve from 0.16412\n",
      "119/119 - 1s - loss: 0.0264 - accuracy: 1.0000 - precision: 1.0000 - recall: 1.0000 - val_loss: 0.1813 - val_accuracy: 0.9706 - val_precision: 0.9720 - val_recall: 0.9720 - lr: 1.0000e-05 - 568ms/epoch - 5ms/step\n",
      "Epoch 80/80\n",
      "\n",
      "Epoch 80: val_loss did not improve from 0.16412\n",
      "119/119 - 1s - loss: 0.0257 - accuracy: 1.0000 - precision: 1.0000 - recall: 1.0000 - val_loss: 0.1801 - val_accuracy: 0.9706 - val_precision: 0.9720 - val_recall: 0.9720 - lr: 1.0000e-05 - 582ms/epoch - 5ms/step\n"
     ]
    }
   ],
   "source": [
    "history = model.fit(resid_train, y_train, batch_size = 8,epochs=80, validation_data=(resid_valid,y_valid),\n",
    "                    callbacks=[checkpoint_callback,reduce_lr], verbose=2) #lr_callback, checkpoint_callback, lr_callback tf.keras.callbacks.EarlyStopping(monitor='val_loss', patience=10),"
   ]
  },
  {
   "cell_type": "code",
   "execution_count": 71,
   "id": "6501d328",
   "metadata": {},
   "outputs": [
    {
     "data": {
      "image/png": "[encoded data removed]",
      "text/plain": [
       "<Figure size 640x480 with 1 Axes>"
      ]
     },
     "metadata": {},
     "output_type": "display_data"
    }
   ],
   "source": [
    "plot_loss(history)"
   ]
  },
  {
   "cell_type": "code",
   "execution_count": null,
   "id": "3d787ca0",
   "metadata": {},
   "outputs": [],
   "source": [
    "history_dict = history.history"
   ]
  },
  {
   "cell_type": "code",
   "execution_count": 51,
   "id": "5f973465",
   "metadata": {},
   "outputs": [
    {
     "name": "stderr",
     "output_type": "stream",
     "text": [
      "2024-03-27 14:16:37.183432: I tensorflow/stream_executor/cuda/cuda_gpu_executor.cc:980] successful NUMA node read from SysFS had negative value (-1), but there must be at least one NUMA node, so returning NUMA node zero\n",
      "2024-03-27 14:16:37.334399: I tensorflow/stream_executor/cuda/cuda_gpu_executor.cc:980] successful NUMA node read from SysFS had negative value (-1), but there must be at least one NUMA node, so returning NUMA node zero\n",
      "2024-03-27 14:16:37.334694: I tensorflow/stream_executor/cuda/cuda_gpu_executor.cc:980] successful NUMA node read from SysFS had negative value (-1), but there must be at least one NUMA node, so returning NUMA node zero\n",
      "2024-03-27 14:16:37.335918: I tensorflow/core/platform/cpu_feature_guard.cc:193] This TensorFlow binary is optimized with oneAPI Deep Neural Network Library (oneDNN) to use the following CPU instructions in performance-critical operations:  SSE4.1 SSE4.2 AVX AVX2 AVX512F AVX512_VNNI FMA\n",
      "To enable them in other operations, rebuild TensorFlow with the appropriate compiler flags.\n",
      "2024-03-27 14:16:37.337061: I tensorflow/stream_executor/cuda/cuda_gpu_executor.cc:980] successful NUMA node read from SysFS had negative value (-1), but there must be at least one NUMA node, so returning NUMA node zero\n",
      "2024-03-27 14:16:37.337318: I tensorflow/stream_executor/cuda/cuda_gpu_executor.cc:980] successful NUMA node read from SysFS had negative value (-1), but there must be at least one NUMA node, so returning NUMA node zero\n",
      "2024-03-27 14:16:37.337525: I tensorflow/stream_executor/cuda/cuda_gpu_executor.cc:980] successful NUMA node read from SysFS had negative value (-1), but there must be at least one NUMA node, so returning NUMA node zero\n",
      "2024-03-27 14:16:37.391811: I tensorflow/stream_executor/cuda/cuda_gpu_executor.cc:980] successful NUMA node read from SysFS had negative value (-1), but there must be at least one NUMA node, so returning NUMA node zero\n",
      "2024-03-27 14:16:37.391947: I tensorflow/stream_executor/cuda/cuda_gpu_executor.cc:980] successful NUMA node read from SysFS had negative value (-1), but there must be at least one NUMA node, so returning NUMA node zero\n",
      "2024-03-27 14:16:37.392035: I tensorflow/stream_executor/cuda/cuda_gpu_executor.cc:980] successful NUMA node read from SysFS had negative value (-1), but there must be at least one NUMA node, so returning NUMA node zero\n",
      "2024-03-27 14:16:37.392110: I tensorflow/core/common_runtime/gpu/gpu_device.cc:1616] Created device /job:localhost/replica:0/task:0/device:GPU:0 with 19795 MB memory:  -> device: 0, name: NVIDIA GeForce RTX 3090, pci bus id: 0000:02:00.0, compute capability: 8.6\n"
     ]
    },
    {
     "name": "stdout",
     "output_type": "stream",
     "text": [
      "Model: \"model\"\n",
      "_________________________________________________________________\n",
      " Layer (type)                Output Shape              Param #   \n",
      "=================================================================\n",
      " InputA (InputLayer)         [(None, 24262, 1)]        0         \n",
      "                                                                 \n",
      " conv1G (Conv1D)             (None, 24232, 16)         512       \n",
      "                                                                 \n",
      " batch_normalization (BatchN  (None, 24232, 16)        64        \n",
      " ormalization)                                                   \n",
      "                                                                 \n",
      " pool1G (MaxPooling1D)       (None, 4038, 16)          0         \n",
      "                                                                 \n",
      " conv2G (Conv1D)             (None, 4024, 32)          7712      \n",
      "                                                                 \n",
      " batch_normalization_1 (Batc  (None, 4024, 32)         128       \n",
      " hNormalization)                                                 \n",
      "                                                                 \n",
      " pool2G (MaxPooling1D)       (None, 1341, 32)          0         \n",
      "                                                                 \n",
      " flatten (Flatten)           (None, 42912)             0         \n",
      "                                                                 \n",
      " dense (Dense)               (None, 512)               21971456  \n",
      "                                                                 \n",
      " dense_1 (Dense)             (None, 256)               131328    \n",
      "                                                                 \n",
      " dropout (Dropout)           (None, 256)               0         \n",
      "                                                                 \n",
      " dense_2 (Dense)             (None, 128)               32896     \n",
      "                                                                 \n",
      " dense_3 (Dense)             (None, 1)                 129       \n",
      "                                                                 \n",
      "=================================================================\n",
      "Total params: 22,144,225\n",
      "Trainable params: 22,144,129\n",
      "Non-trainable params: 96\n",
      "_________________________________________________________________\n"
     ]
    }
   ],
   "source": [
    "from tensorflow.keras.models import load_model\n",
    "\n",
    "loaded_model = load_model(\"/media/gdagasso/TOSHIBA EXT/ABCD/Regression_PopStruc_Model/Models/cnn_1d_binaryClassifier_regressedAtInput_lr1e3_epoch21_loss0.1641_acc0.9755_20240222_161016.h5\")#\"\"/media/gdagasso/TOSHIBA EXT/ABCD/Regression_PopStruc_Model/Models/cnn_1d_binaryClassifier_noOHE_lr1e3_epoch5_loss0.5344_acc0.8725_20240216_112515.h5\")#\"/media/gdagasso/TOSHIBA EXT/ABCD/Regression_PopStruc_Model/Models/cnn_1d_binaryClassifier.h5_epoch4_loss0.7019_acc0.7647_20240214_191738.h5\")\n",
    "loaded_model.summary()"
   ]
  },
  {
   "cell_type": "code",
   "execution_count": 52,
   "id": "9e1c2851",
   "metadata": {},
   "outputs": [
    {
     "name": "stderr",
     "output_type": "stream",
     "text": [
      "2024-03-27 14:17:05.477655: I tensorflow/stream_executor/cuda/cuda_dnn.cc:384] Loaded cuDNN version 8401\n"
     ]
    },
    {
     "name": "stdout",
     "output_type": "stream",
     "text": [
      "7/7 [==============================] - 2s 6ms/step\n",
      "[[1.]\n",
      " [1.]\n",
      " [1.]\n",
      " [0.]\n",
      " [0.]\n",
      " [0.]\n",
      " [0.]\n",
      " [1.]\n",
      " [1.]\n",
      " [1.]\n",
      " [0.]\n",
      " [0.]\n",
      " [0.]\n",
      " [1.]\n",
      " [1.]\n",
      " [0.]\n",
      " [1.]\n",
      " [1.]\n",
      " [0.]\n",
      " [1.]\n",
      " [0.]\n",
      " [1.]\n",
      " [0.]\n",
      " [1.]\n",
      " [0.]\n",
      " [0.]\n",
      " [1.]\n",
      " [0.]\n",
      " [0.]\n",
      " [1.]\n",
      " [0.]\n",
      " [0.]\n",
      " [1.]\n",
      " [1.]\n",
      " [1.]\n",
      " [1.]\n",
      " [1.]\n",
      " [1.]\n",
      " [1.]\n",
      " [1.]\n",
      " [1.]\n",
      " [0.]\n",
      " [0.]\n",
      " [1.]\n",
      " [1.]\n",
      " [0.]\n",
      " [1.]\n",
      " [1.]\n",
      " [0.]\n",
      " [1.]\n",
      " [1.]\n",
      " [0.]\n",
      " [1.]\n",
      " [0.]\n",
      " [1.]\n",
      " [1.]\n",
      " [1.]\n",
      " [0.]\n",
      " [1.]\n",
      " [0.]\n",
      " [1.]\n",
      " [1.]\n",
      " [0.]\n",
      " [0.]\n",
      " [0.]\n",
      " [0.]\n",
      " [1.]\n",
      " [1.]\n",
      " [1.]\n",
      " [0.]\n",
      " [1.]\n",
      " [1.]\n",
      " [1.]\n",
      " [1.]\n",
      " [1.]\n",
      " [1.]\n",
      " [1.]\n",
      " [0.]\n",
      " [0.]\n",
      " [0.]\n",
      " [0.]\n",
      " [0.]\n",
      " [1.]\n",
      " [1.]\n",
      " [0.]\n",
      " [0.]\n",
      " [1.]\n",
      " [0.]\n",
      " [1.]\n",
      " [1.]\n",
      " [1.]\n",
      " [0.]\n",
      " [1.]\n",
      " [0.]\n",
      " [0.]\n",
      " [0.]\n",
      " [1.]\n",
      " [1.]\n",
      " [0.]\n",
      " [0.]\n",
      " [1.]\n",
      " [0.]\n",
      " [0.]\n",
      " [0.]\n",
      " [0.]\n",
      " [1.]\n",
      " [0.]\n",
      " [1.]\n",
      " [1.]\n",
      " [1.]\n",
      " [0.]\n",
      " [1.]\n",
      " [1.]\n",
      " [0.]\n",
      " [1.]\n",
      " [1.]\n",
      " [1.]\n",
      " [1.]\n",
      " [1.]\n",
      " [1.]\n",
      " [0.]\n",
      " [1.]\n",
      " [0.]\n",
      " [1.]\n",
      " [0.]\n",
      " [1.]\n",
      " [0.]\n",
      " [0.]\n",
      " [1.]\n",
      " [1.]\n",
      " [0.]\n",
      " [0.]\n",
      " [1.]\n",
      " [0.]\n",
      " [0.]\n",
      " [0.]\n",
      " [0.]\n",
      " [1.]\n",
      " [1.]\n",
      " [0.]\n",
      " [1.]\n",
      " [0.]\n",
      " [1.]\n",
      " [1.]\n",
      " [1.]\n",
      " [0.]\n",
      " [0.]\n",
      " [0.]\n",
      " [1.]\n",
      " [1.]\n",
      " [0.]\n",
      " [0.]\n",
      " [1.]\n",
      " [1.]\n",
      " [1.]\n",
      " [0.]\n",
      " [1.]\n",
      " [1.]\n",
      " [1.]\n",
      " [0.]\n",
      " [0.]\n",
      " [0.]\n",
      " [1.]\n",
      " [1.]\n",
      " [0.]\n",
      " [1.]\n",
      " [0.]\n",
      " [1.]\n",
      " [0.]\n",
      " [1.]\n",
      " [0.]\n",
      " [1.]\n",
      " [1.]\n",
      " [1.]\n",
      " [1.]\n",
      " [0.]\n",
      " [1.]\n",
      " [1.]\n",
      " [0.]\n",
      " [0.]\n",
      " [0.]\n",
      " [0.]\n",
      " [0.]\n",
      " [0.]\n",
      " [1.]\n",
      " [0.]\n",
      " [1.]\n",
      " [0.]\n",
      " [1.]\n",
      " [0.]\n",
      " [0.]\n",
      " [1.]\n",
      " [0.]\n",
      " [0.]\n",
      " [0.]\n",
      " [0.]\n",
      " [1.]\n",
      " [0.]\n",
      " [0.]\n",
      " [1.]\n",
      " [1.]\n",
      " [0.]\n",
      " [0.]\n",
      " [0.]]\n",
      "Accuracy: 0.9950980392156863\n",
      "Confusion Matrix:\n",
      " [[ 97   1]\n",
      " [  0 106]]\n",
      "Classification Report:\n",
      "               precision    recall  f1-score   support\n",
      "\n",
      "         0.0       1.00      0.99      0.99        98\n",
      "         1.0       0.99      1.00      1.00       106\n",
      "\n",
      "    accuracy                           1.00       204\n",
      "   macro avg       1.00      0.99      1.00       204\n",
      "weighted avg       1.00      1.00      1.00       204\n",
      "\n"
     ]
    },
    {
     "name": "stderr",
     "output_type": "stream",
     "text": [
      "2024-03-27 14:17:06.705067: I tensorflow/stream_executor/cuda/cuda_blas.cc:1614] TensorFloat-32 will be used for the matrix multiplication. This will only be logged once.\n"
     ]
    }
   ],
   "source": [
    "#predictions = loaded_model.predict(X_test)\n",
    "predictions_binary = convert_preds(resid_test,loaded_model)\n",
    "\n",
    "#print(\"predictions2 \", predictions_binary.size)\n",
    "#print(\"labels\", test['PD.x'].values.size)\n",
    "\n",
    "my_confusion_matrix(y_test,predictions_binary)"
   ]
  },
  {
   "cell_type": "code",
   "execution_count": 53,
   "id": "65833e49",
   "metadata": {},
   "outputs": [
    {
     "name": "stdout",
     "output_type": "stream",
     "text": [
      "(204, 24262, 1)\n",
      "[1. 1. 1. 0. 0. 0. 0. 1. 1. 1.]\n"
     ]
    }
   ],
   "source": [
    "print(X_test.shape)\n",
    "print(y_test[:10])"
   ]
  },
  {
   "cell_type": "code",
   "execution_count": 54,
   "id": "c85d9b08",
   "metadata": {},
   "outputs": [
    {
     "name": "stdout",
     "output_type": "stream",
     "text": [
      "[1.]\n"
     ]
    },
    {
     "data": {
      "image/png": "[encoded data removed]",
      "text/plain": [
       "<Figure size 1000x300 with 1 Axes>"
      ]
     },
     "metadata": {},
     "output_type": "display_data"
    },
    {
     "name": "stdout",
     "output_type": "stream",
     "text": [
      "(1, 24262, 1)\n",
      "(1, 24262, 1)\n",
      "[[[-0.]\n",
      "  [ 0.]\n",
      "  [-0.]\n",
      "  ...\n",
      "  [ 0.]\n",
      "  [ 0.]\n",
      "  [ 0.]]]\n",
      "[1.]\n"
     ]
    },
    {
     "data": {
      "image/png": "[encoded data removed]",
      "text/plain": [
       "<Figure size 1000x300 with 1 Axes>"
      ]
     },
     "metadata": {},
     "output_type": "display_data"
    },
    {
     "name": "stdout",
     "output_type": "stream",
     "text": [
      "(1, 24262, 1)\n",
      "(1, 24262, 1)\n",
      "[[[ 1.7169087e-08]\n",
      "  [-0.0000000e+00]\n",
      "  [-0.0000000e+00]\n",
      "  ...\n",
      "  [-0.0000000e+00]\n",
      "  [ 0.0000000e+00]\n",
      "  [-0.0000000e+00]]]\n",
      "[0.]\n"
     ]
    },
    {
     "data": {
      "image/png": "[encoded data removed]",
      "text/plain": [
       "<Figure size 1000x300 with 1 Axes>"
      ]
     },
     "metadata": {},
     "output_type": "display_data"
    },
    {
     "name": "stdout",
     "output_type": "stream",
     "text": [
      "(1, 24262, 1)\n",
      "(1, 24262, 1)\n",
      "[[[0.]\n",
      "  [0.]\n",
      "  [0.]\n",
      "  ...\n",
      "  [0.]\n",
      "  [0.]\n",
      "  [0.]]]\n",
      "[0.]\n"
     ]
    },
    {
     "data": {
      "image/png": "[encoded data removed]",
      "text/plain": [
       "<Figure size 1000x300 with 1 Axes>"
      ]
     },
     "metadata": {},
     "output_type": "display_data"
    },
    {
     "name": "stdout",
     "output_type": "stream",
     "text": [
      "(1, 24262, 1)\n",
      "(1, 24262, 1)\n",
      "[[[ 0.]\n",
      "  [-0.]\n",
      "  [-0.]\n",
      "  ...\n",
      "  [ 0.]\n",
      "  [ 0.]\n",
      "  [ 0.]]]\n"
     ]
    }
   ],
   "source": [
    "grad_cam_1 = plot_gradCam(resid_test,y_test,0,loaded_model)\n",
    "grad_cam_2 = plot_gradCam(resid_test,y_test,1,loaded_model)\n",
    "grad_cam_3 = plot_gradCam(resid_test,y_test,4,loaded_model)\n",
    "grad_cam_4 = plot_gradCam(resid_test,y_test,5,loaded_model)"
   ]
  },
  {
   "cell_type": "code",
   "execution_count": 57,
   "id": "612e0654",
   "metadata": {},
   "outputs": [],
   "source": [
    "reshaped_X_resid = np.squeeze(resid_test, axis=2)"
   ]
  },
  {
   "cell_type": "code",
   "execution_count": 58,
   "id": "65d62029",
   "metadata": {},
   "outputs": [],
   "source": [
    "X_resid_df = pd.DataFrame(reshaped_X_resid, columns=df_1.columns, index = ids_test)"
   ]
  },
  {
   "cell_type": "code",
   "execution_count": 59,
   "id": "82407a86",
   "metadata": {},
   "outputs": [
    {
     "name": "stdout",
     "output_type": "stream",
     "text": [
      "12187\n",
      "[ 0. -0. -0. ...  0.  0.  0.]\n",
      "Peak Indices: []\n",
      "VEP:\n",
      "\n"
     ]
    }
   ],
   "source": [
    "print_peaks(X_resid_df, grad_cam_4, threshold = 0.005)"
   ]
  },
  {
   "cell_type": "code",
   "execution_count": 55,
   "id": "2657bfaa",
   "metadata": {},
   "outputs": [
    {
     "data": {
      "image/png": "[encoded data removed]",
      "text/plain": [
       "<Figure size 1000x300 with 1 Axes>"
      ]
     },
     "metadata": {},
     "output_type": "display_data"
    },
    {
     "data": {
      "image/png": "[encoded data removed]",
      "text/plain": [
       "<Figure size 1000x300 with 1 Axes>"
      ]
     },
     "metadata": {},
     "output_type": "display_data"
    }
   ],
   "source": [
    "avg_grad_cam_0 = plot_gradCam_average(resid_test, y_test, 0, loaded_model)\n",
    "avg_grad_cam_1 = plot_gradCam_average(resid_test,y_test,1,loaded_model)"
   ]
  },
  {
   "cell_type": "code",
   "execution_count": 60,
   "id": "de2b1228",
   "metadata": {},
   "outputs": [
    {
     "name": "stdout",
     "output_type": "stream",
     "text": [
      "17222\n",
      "[-1.0297482e-08 -1.2987263e-08 -9.4521422e-09 ...  0.0000000e+00\n",
      "  0.0000000e+00  0.0000000e+00]\n",
      "Peak Indices: [ 1083  2533  3978  3984  4152  4524  4535  5663  6226  6926  6936  7267\n",
      "  7270  7277  7836  7843  8587  8591  8598  8601  9645 12187 12190 12440\n",
      " 12459 17222 17231 17271 18351 20162 20167 21521 21741 23836 23840]\n",
      "Peak Index: 1083\n",
      "Column Name: rs4689183\n",
      "Grad-CAM Value: 0.0004301593\n",
      "Peak Index: 2533\n",
      "Column Name: rs480510\n",
      "Grad-CAM Value: 0.00040469322\n",
      "Peak Index: 3978\n",
      "Column Name: rs13131355\n",
      "Grad-CAM Value: 0.00040322824\n",
      "Peak Index: 3984\n",
      "Column Name: rs11731852\n",
      "Grad-CAM Value: -0.0004064321\n",
      "Peak Index: 4152\n",
      "Column Name: rs4234993\n",
      "Grad-CAM Value: -0.0004200808\n",
      "Peak Index: 4524\n",
      "Column Name: rs1491231\n",
      "Grad-CAM Value: -0.000454863\n",
      "Peak Index: 4535\n",
      "Column Name: rs9654324\n",
      "Grad-CAM Value: -0.00044130406\n",
      "Peak Index: 5663\n",
      "Column Name: rs13103573\n",
      "Grad-CAM Value: 0.0004617172\n",
      "Peak Index: 6226\n",
      "Column Name: chr4:47019621\n",
      "Grad-CAM Value: -0.00043508637\n",
      "Peak Index: 6926\n",
      "Column Name: rs11943456\n",
      "Grad-CAM Value: -0.0005034749\n",
      "Peak Index: 6936\n",
      "Column Name: rs11732723\n",
      "Grad-CAM Value: -0.000637822\n",
      "Peak Index: 7267\n",
      "Column Name: rs11943182\n",
      "Grad-CAM Value: 0.00041667407\n",
      "Peak Index: 7270\n",
      "Column Name: rs13131244\n",
      "Grad-CAM Value: 0.00042137987\n",
      "Peak Index: 7277\n",
      "Column Name: rs6554442\n",
      "Grad-CAM Value: 0.0006319196\n",
      "Peak Index: 7836\n",
      "Column Name: rs12501683\n",
      "Grad-CAM Value: -0.00041249642\n",
      "Peak Index: 7843\n",
      "Column Name: rs1456868\n",
      "Grad-CAM Value: -0.0004584554\n",
      "Peak Index: 8587\n",
      "Column Name: rs10026349\n",
      "Grad-CAM Value: -0.00043100966\n",
      "Peak Index: 8591\n",
      "Column Name: rs5858956\n",
      "Grad-CAM Value: -0.00069224875\n",
      "Peak Index: 8598\n",
      "Column Name: rs12644356\n",
      "Grad-CAM Value: -0.000548288\n",
      "Peak Index: 8601\n",
      "Column Name: rs1376417\n",
      "Grad-CAM Value: -0.001092782\n",
      "Peak Index: 9645\n",
      "Column Name: rs35432693\n",
      "Grad-CAM Value: 0.00053548324\n",
      "Peak Index: 12187\n",
      "Column Name: rs4693332\n",
      "Grad-CAM Value: -0.0004269738\n",
      "Peak Index: 12190\n",
      "Column Name: rs1435477\n",
      "Grad-CAM Value: -0.0005710417\n",
      "Peak Index: 12440\n",
      "Column Name: rs1434539\n",
      "Grad-CAM Value: -0.0006857797\n",
      "Peak Index: 12459\n",
      "Column Name: rs34585936\n",
      "Grad-CAM Value: 0.00041428715\n",
      "Peak Index: 17222\n",
      "Column Name: rs6535211\n",
      "Grad-CAM Value: 0.00064455596\n",
      "Peak Index: 17231\n",
      "Column Name: rs6840566\n",
      "Grad-CAM Value: 0.00060879585\n",
      "Peak Index: 17271\n",
      "Column Name: rs6818574\n",
      "Grad-CAM Value: -0.00045537847\n",
      "Peak Index: 18351\n",
      "Column Name: rs6849644\n",
      "Grad-CAM Value: 0.0004247921\n",
      "Peak Index: 20162\n",
      "Column Name: rs13146333\n",
      "Grad-CAM Value: -0.00040991197\n",
      "Peak Index: 20167\n",
      "Column Name: rs6826570\n",
      "Grad-CAM Value: -0.0005898033\n",
      "Peak Index: 21521\n",
      "Column Name: rs1459157\n",
      "Grad-CAM Value: -0.0004524007\n",
      "Peak Index: 21741\n",
      "Column Name: rs10002597\n",
      "Grad-CAM Value: 0.00044383697\n",
      "Peak Index: 23836\n",
      "Column Name: rs1487585\n",
      "Grad-CAM Value: 0.00040632888\n",
      "Peak Index: 23840\n",
      "Column Name: rs35290534\n",
      "Grad-CAM Value: 0.00041062973\n",
      "VEP:\n",
      "\n",
      "rs4689183\n",
      "rs480510\n",
      "rs13131355\n",
      "rs11731852\n",
      "rs4234993\n",
      "rs1491231\n",
      "rs9654324\n",
      "rs13103573\n",
      "chr4:47019621\n",
      "rs11943456\n",
      "rs11732723\n",
      "rs11943182\n",
      "rs13131244\n",
      "rs6554442\n",
      "rs12501683\n",
      "rs1456868\n",
      "rs10026349\n",
      "rs5858956\n",
      "rs12644356\n",
      "rs1376417\n",
      "rs35432693\n",
      "rs4693332\n",
      "rs1435477\n",
      "rs1434539\n",
      "rs34585936\n",
      "rs6535211\n",
      "rs6840566\n",
      "rs6818574\n",
      "rs6849644\n",
      "rs13146333\n",
      "rs6826570\n",
      "rs1459157\n",
      "rs10002597\n",
      "rs1487585\n",
      "rs35290534\n",
      "12198\n",
      "[-8.4798337e-08  1.2060112e-08 -2.7529472e-08 ...  0.0000000e+00\n",
      "  0.0000000e+00  0.0000000e+00]\n",
      "Peak Indices: [ 4825  5202 12190 12198 12433]\n",
      "Peak Index: 4825\n",
      "Column Name: rs11732093\n",
      "Grad-CAM Value: -0.00042095012\n",
      "Peak Index: 5202\n",
      "Column Name: rs4974930\n",
      "Grad-CAM Value: 0.00050225283\n",
      "Peak Index: 12190\n",
      "Column Name: rs1435477\n",
      "Grad-CAM Value: 0.00051576976\n",
      "Peak Index: 12198\n",
      "Column Name: rs41385744\n",
      "Grad-CAM Value: 0.0006102898\n",
      "Peak Index: 12433\n",
      "Column Name: rs723367\n",
      "Grad-CAM Value: 0.0004352362\n",
      "VEP:\n",
      "\n",
      "rs11732093\n",
      "rs4974930\n",
      "rs1435477\n",
      "rs41385744\n",
      "rs723367\n"
     ]
    }
   ],
   "source": [
    "print_peaks(X_resid_df, avg_grad_cam_0, threshold = 0.0004)\n",
    "print_peaks(X_resid_df, avg_grad_cam_1, threshold = 0.0004)"
   ]
  },
  {
   "cell_type": "code",
   "execution_count": null,
   "id": "3d5afda1",
   "metadata": {},
   "outputs": [],
   "source": []
  },
  {
   "cell_type": "code",
   "execution_count": null,
   "id": "b801a72e",
   "metadata": {},
   "outputs": [],
   "source": []
  },
  {
   "cell_type": "code",
   "execution_count": null,
   "id": "54ed1f68",
   "metadata": {},
   "outputs": [],
   "source": []
  }
 ],
 "metadata": {
  "kernelspec": {
   "display_name": "Python 3 (ipykernel)",
   "language": "python",
   "name": "python3"
  },
  "language_info": {
   "codemirror_mode": {
    "name": "ipython",
    "version": 3
   },
   "file_extension": ".py",
   "mimetype": "text/x-python",
   "name": "python",
   "nbconvert_exporter": "python",
   "pygments_lexer": "ipython3",
   "version": "3.10.8"
  }
 },
 "nbformat": 4,
 "nbformat_minor": 5
}
